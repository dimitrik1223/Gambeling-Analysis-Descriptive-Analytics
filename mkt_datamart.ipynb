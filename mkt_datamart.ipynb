{
 "cells": [
  {
   "cell_type": "code",
   "execution_count": 79,
   "metadata": {},
   "outputs": [],
   "source": [
    "if (!require(\"lubridate\")) install.packages(\"lubridate\")\n",
    "if (!require(\"dplyr\")) install.packages(\"dplyr\")\n",
    "if (!require(\"ggplot2\")) install.packages(\"ggplot2\")\n",
    "if (!require(\"formattable\")) install.packages(\"formattable\")\n",
    "if (!require(\"Hmisc\")) install.packages('Hmisc')\n",
    "if (!require(\"tidyr\")) install.packages(\"tidyr\")\n",
    "library('rfm')"
   ]
  },
  {
   "cell_type": "code",
   "execution_count": 80,
   "metadata": {},
   "outputs": [],
   "source": [
    "options(scipen = 20)"
   ]
  },
  {
   "cell_type": "code",
   "execution_count": 81,
   "metadata": {},
   "outputs": [
    {
     "data": {
      "text/html": [
       "'c:/Users/dkestenbaum/Documents/GitHub/marketing_datamart/gambeling_analysis'"
      ],
      "text/latex": [
       "'c:/Users/dkestenbaum/Documents/GitHub/marketing\\_datamart/gambeling\\_analysis'"
      ],
      "text/markdown": [
       "'c:/Users/dkestenbaum/Documents/GitHub/marketing_datamart/gambeling_analysis'"
      ],
      "text/plain": [
       "[1] \"c:/Users/dkestenbaum/Documents/GitHub/marketing_datamart/gambeling_analysis\""
      ]
     },
     "metadata": {},
     "output_type": "display_data"
    }
   ],
   "source": [
    "getwd()"
   ]
  },
  {
   "cell_type": "code",
   "execution_count": 82,
   "metadata": {},
   "outputs": [],
   "source": [
    "data = load('DataGroupAssignment.Rdata')"
   ]
  },
  {
   "cell_type": "code",
   "execution_count": 83,
   "metadata": {},
   "outputs": [
    {
     "data": {
      "text/html": [
       "<ol class=list-inline>\n",
       "\t<li>'Demographics'</li>\n",
       "\t<li>'UserDailyAggregation'</li>\n",
       "\t<li>'PokerChipConversions'</li>\n",
       "</ol>\n"
      ],
      "text/latex": [
       "\\begin{enumerate*}\n",
       "\\item 'Demographics'\n",
       "\\item 'UserDailyAggregation'\n",
       "\\item 'PokerChipConversions'\n",
       "\\end{enumerate*}\n"
      ],
      "text/markdown": [
       "1. 'Demographics'\n",
       "2. 'UserDailyAggregation'\n",
       "3. 'PokerChipConversions'\n",
       "\n",
       "\n"
      ],
      "text/plain": [
       "[1] \"Demographics\"         \"UserDailyAggregation\" \"PokerChipConversions\""
      ]
     },
     "metadata": {},
     "output_type": "display_data"
    }
   ],
   "source": [
    "data"
   ]
  },
  {
   "cell_type": "markdown",
   "metadata": {},
   "source": [
    "# data cleaning "
   ]
  },
  {
   "cell_type": "code",
   "execution_count": 84,
   "metadata": {},
   "outputs": [
    {
     "data": {
      "text/html": [
       "<table>\n",
       "<thead><tr><th scope=col>UserID</th><th scope=col>Country</th><th scope=col>Language</th><th scope=col>RegDate</th><th scope=col>FirstPay</th><th scope=col>FirstAct</th><th scope=col>FirstSp</th><th scope=col>FirstCa</th><th scope=col>FirstGa</th><th scope=col>FirstPo</th><th scope=col>ApplicationID</th><th scope=col>Gender</th></tr></thead>\n",
       "<tbody>\n",
       "\t<tr><td>1324354   </td><td>276       </td><td>2         </td><td>2005-02-01</td><td>20050224  </td><td>20050224  </td><td>20050224  </td><td>NULL      </td><td>NULL      </td><td>NULL      </td><td>3         </td><td>1         </td></tr>\n",
       "\t<tr><td>1324355   </td><td>300       </td><td>8         </td><td>2005-02-01</td><td>20050201  </td><td>20050201  </td><td>20050201  </td><td>NULL      </td><td>NULL      </td><td>20050611  </td><td>1         </td><td>1         </td></tr>\n",
       "\t<tr><td>1324356   </td><td>276       </td><td>2         </td><td>2005-02-01</td><td>20050201  </td><td>20050202  </td><td>20050202  </td><td>NULL      </td><td>NULL      </td><td>NULL      </td><td>3         </td><td>1         </td></tr>\n",
       "\t<tr><td>1324358   </td><td>752       </td><td>1         </td><td>2005-02-01</td><td>20050201  </td><td>20050201  </td><td>20050201  </td><td>NULL      </td><td>NULL      </td><td>NULL      </td><td>1         </td><td>1         </td></tr>\n",
       "\t<tr><td>1324360   </td><td>792       </td><td>7         </td><td>2005-02-01</td><td>20050202  </td><td>20050202  </td><td>20050202  </td><td>20050203  </td><td>NULL      </td><td>NULL      </td><td>9         </td><td>1         </td></tr>\n",
       "\t<tr><td>1324362   </td><td>276       </td><td>2         </td><td>2005-02-01</td><td>20050211  </td><td>20050211  </td><td>20050211  </td><td>NULL      </td><td>NULL      </td><td>NULL      </td><td>3         </td><td>1         </td></tr>\n",
       "</tbody>\n",
       "</table>\n"
      ],
      "text/latex": [
       "\\begin{tabular}{r|llllllllllll}\n",
       " UserID & Country & Language & RegDate & FirstPay & FirstAct & FirstSp & FirstCa & FirstGa & FirstPo & ApplicationID & Gender\\\\\n",
       "\\hline\n",
       "\t 1324354    & 276        & 2          & 2005-02-01 & 20050224   & 20050224   & 20050224   & NULL       & NULL       & NULL       & 3          & 1         \\\\\n",
       "\t 1324355    & 300        & 8          & 2005-02-01 & 20050201   & 20050201   & 20050201   & NULL       & NULL       & 20050611   & 1          & 1         \\\\\n",
       "\t 1324356    & 276        & 2          & 2005-02-01 & 20050201   & 20050202   & 20050202   & NULL       & NULL       & NULL       & 3          & 1         \\\\\n",
       "\t 1324358    & 752        & 1          & 2005-02-01 & 20050201   & 20050201   & 20050201   & NULL       & NULL       & NULL       & 1          & 1         \\\\\n",
       "\t 1324360    & 792        & 7          & 2005-02-01 & 20050202   & 20050202   & 20050202   & 20050203   & NULL       & NULL       & 9          & 1         \\\\\n",
       "\t 1324362    & 276        & 2          & 2005-02-01 & 20050211   & 20050211   & 20050211   & NULL       & NULL       & NULL       & 3          & 1         \\\\\n",
       "\\end{tabular}\n"
      ],
      "text/markdown": [
       "\n",
       "| UserID | Country | Language | RegDate | FirstPay | FirstAct | FirstSp | FirstCa | FirstGa | FirstPo | ApplicationID | Gender |\n",
       "|---|---|---|---|---|---|---|---|---|---|---|---|\n",
       "| 1324354    | 276        | 2          | 2005-02-01 | 20050224   | 20050224   | 20050224   | NULL       | NULL       | NULL       | 3          | 1          |\n",
       "| 1324355    | 300        | 8          | 2005-02-01 | 20050201   | 20050201   | 20050201   | NULL       | NULL       | 20050611   | 1          | 1          |\n",
       "| 1324356    | 276        | 2          | 2005-02-01 | 20050201   | 20050202   | 20050202   | NULL       | NULL       | NULL       | 3          | 1          |\n",
       "| 1324358    | 752        | 1          | 2005-02-01 | 20050201   | 20050201   | 20050201   | NULL       | NULL       | NULL       | 1          | 1          |\n",
       "| 1324360    | 792        | 7          | 2005-02-01 | 20050202   | 20050202   | 20050202   | 20050203   | NULL       | NULL       | 9          | 1          |\n",
       "| 1324362    | 276        | 2          | 2005-02-01 | 20050211   | 20050211   | 20050211   | NULL       | NULL       | NULL       | 3          | 1          |\n",
       "\n"
      ],
      "text/plain": [
       "  UserID  Country Language RegDate    FirstPay FirstAct FirstSp  FirstCa \n",
       "1 1324354 276     2        2005-02-01 20050224 20050224 20050224 NULL    \n",
       "2 1324355 300     8        2005-02-01 20050201 20050201 20050201 NULL    \n",
       "3 1324356 276     2        2005-02-01 20050201 20050202 20050202 NULL    \n",
       "4 1324358 752     1        2005-02-01 20050201 20050201 20050201 NULL    \n",
       "5 1324360 792     7        2005-02-01 20050202 20050202 20050202 20050203\n",
       "6 1324362 276     2        2005-02-01 20050211 20050211 20050211 NULL    \n",
       "  FirstGa FirstPo  ApplicationID Gender\n",
       "1 NULL    NULL     3             1     \n",
       "2 NULL    20050611 1             1     \n",
       "3 NULL    NULL     3             1     \n",
       "4 NULL    NULL     1             1     \n",
       "5 NULL    NULL     9             1     \n",
       "6 NULL    NULL     3             1     "
      ]
     },
     "metadata": {},
     "output_type": "display_data"
    }
   ],
   "source": [
    "head(Demographics)"
   ]
  },
  {
   "cell_type": "code",
   "execution_count": 85,
   "metadata": {},
   "outputs": [
    {
     "name": "stdout",
     "output_type": "stream",
     "text": [
      "Classes 'tbl_df', 'tbl' and 'data.frame':\t42649 obs. of  12 variables:\n",
      " $ UserID       : num  1324354 1324355 1324356 1324358 1324360 ...\n",
      "  ..- attr(*, \"label\")= chr \"User ID\"\n",
      " $ Country      : num  276 300 276 752 792 276 208 276 620 792 ...\n",
      "  ..- attr(*, \"label\")= chr \"Country of residence\"\n",
      " $ Language     : num  2 8 2 1 7 2 11 2 16 7 ...\n",
      "  ..- attr(*, \"label\")= chr \"Primary language\"\n",
      " $ RegDate      : chr  \"2005-02-01\" \"2005-02-01\" \"2005-02-01\" \"2005-02-01\" ...\n",
      "  ..- attr(*, \"label\")= chr \"Registration Date\"\n",
      " $ FirstPay     : chr  \"20050224\" \"20050201\" \"20050201\" \"20050201\" ...\n",
      "  ..- attr(*, \"label\")= chr \"First Payin Date\"\n",
      " $ FirstAct     : chr  \"20050224\" \"20050201\" \"20050202\" \"20050201\" ...\n",
      "  ..- attr(*, \"label\")= chr \"First Active Play Date\"\n",
      " $ FirstSp      : chr  \"20050224\" \"20050201\" \"20050202\" \"20050201\" ...\n",
      "  ..- attr(*, \"label\")= chr \"First Sports Book Play Date\"\n",
      " $ FirstCa      : chr  \"NULL\" \"NULL\" \"NULL\" \"NULL\" ...\n",
      "  ..- attr(*, \"label\")= chr \"First Casino Play Date\"\n",
      " $ FirstGa      : chr  \"NULL\" \"NULL\" \"NULL\" \"NULL\" ...\n",
      "  ..- attr(*, \"label\")= chr \"First Games Play Date\"\n",
      " $ FirstPo      : chr  \"NULL\" \"20050611\" \"NULL\" \"NULL\" ...\n",
      "  ..- attr(*, \"label\")= chr \"First Poker Play Date\"\n",
      " $ ApplicationID: num  3 1 3 1 9 3 1 3 1 9 ...\n",
      "  ..- attr(*, \"label\")= chr \"Application ID\"\n",
      " $ Gender       : num  1 1 1 1 1 1 1 1 1 1 ...\n"
     ]
    }
   ],
   "source": [
    "#check tibble feature types\n",
    "str(Demographics)"
   ]
  },
  {
   "cell_type": "code",
   "execution_count": 86,
   "metadata": {},
   "outputs": [],
   "source": [
    "#convert registration date to date time \n",
    "Demographics$RegDate <- as.Date(Demographics$RegDate)"
   ]
  },
  {
   "cell_type": "code",
   "execution_count": 87,
   "metadata": {},
   "outputs": [
    {
     "name": "stdout",
     "output_type": "stream",
     "text": [
      " Date[1:42649], format: \"2005-02-01\" \"2005-02-01\" \"2005-02-01\" \"2005-02-01\" \"2005-02-01\" ...\n"
     ]
    }
   ],
   "source": [
    "str(Demographics$RegDate)"
   ]
  },
  {
   "cell_type": "code",
   "execution_count": 88,
   "metadata": {},
   "outputs": [],
   "source": [
    "#convert first pay, first act, first sports book play, first casino play,\n",
    "# first games play, and  first poker play dates to datetime.\n",
    "Demographics$FirstPay <- as.Date(Demographics$FirstPay, \"%Y%m%d\")"
   ]
  },
  {
   "cell_type": "code",
   "execution_count": 89,
   "metadata": {},
   "outputs": [],
   "source": [
    "Demographics$FirstAct <- as.Date(Demographics$FirstAct, \"%Y%m%d\")\n",
    "Demographics$FirstSp <- as.Date(Demographics$FirstSp, \"%Y%m%d\")\n",
    "Demographics$FirstCa <- as.Date(Demographics$FirstCa, \"%Y%m%d\")\n",
    "Demographics$FirstGa <- as.Date(Demographics$FirstGa, \"%Y%m%d\")\n",
    "Demographics$FirstPo <- as.Date(Demographics$FirstPo, \"%Y%m%d\")"
   ]
  },
  {
   "cell_type": "code",
   "execution_count": 90,
   "metadata": {},
   "outputs": [
    {
     "name": "stdout",
     "output_type": "stream",
     "text": [
      "Classes 'tbl_df', 'tbl' and 'data.frame':\t42649 obs. of  12 variables:\n",
      " $ UserID       : num  1324354 1324355 1324356 1324358 1324360 ...\n",
      "  ..- attr(*, \"label\")= chr \"User ID\"\n",
      " $ Country      : num  276 300 276 752 792 276 208 276 620 792 ...\n",
      "  ..- attr(*, \"label\")= chr \"Country of residence\"\n",
      " $ Language     : num  2 8 2 1 7 2 11 2 16 7 ...\n",
      "  ..- attr(*, \"label\")= chr \"Primary language\"\n",
      " $ RegDate      : Date, format: \"2005-02-01\" \"2005-02-01\" ...\n",
      " $ FirstPay     : Date, format: \"2005-02-24\" \"2005-02-01\" ...\n",
      " $ FirstAct     : Date, format: \"2005-02-24\" \"2005-02-01\" ...\n",
      " $ FirstSp      : Date, format: \"2005-02-24\" \"2005-02-01\" ...\n",
      " $ FirstCa      : Date, format: NA NA ...\n",
      " $ FirstGa      : Date, format: NA NA ...\n",
      " $ FirstPo      : Date, format: NA \"2005-06-11\" ...\n",
      " $ ApplicationID: num  3 1 3 1 9 3 1 3 1 9 ...\n",
      "  ..- attr(*, \"label\")= chr \"Application ID\"\n",
      " $ Gender       : num  1 1 1 1 1 1 1 1 1 1 ...\n"
     ]
    }
   ],
   "source": [
    "str(Demographics)"
   ]
  },
  {
   "cell_type": "code",
   "execution_count": 91,
   "metadata": {},
   "outputs": [],
   "source": [
    "#create a cutoff date object\n",
    "october <- as.Date(\"20051002\",\"%Y%m%d\")"
   ]
  },
  {
   "cell_type": "code",
   "execution_count": 92,
   "metadata": {},
   "outputs": [],
   "source": [
    "#calculate LOR (Length of Relation) based on time since \n",
    "#last transaction date in the dataset and the registration date of the \n",
    "#gambler\n",
    "Demographics$LOR <- october - Demographics$RegDate"
   ]
  },
  {
   "cell_type": "code",
   "execution_count": 93,
   "metadata": {},
   "outputs": [],
   "source": [
    "#calculate play to act interval (PTAI)\n",
    "#based on time from FirstPay (first betting deposit date)\n",
    "#and first active date\n",
    "Demographics$PTAI <- Demographics$FirstAct - Demographics$FirstPay"
   ]
  },
  {
   "cell_type": "code",
   "execution_count": 94,
   "metadata": {},
   "outputs": [],
   "source": [
    "#calculate registeration to first pay interval (RTFP)\n",
    "#based on time from gambler registration date to first bet deposit\n",
    "Demographics$RTFP <- Demographics$FirstPay - Demographics$RegDate"
   ]
  },
  {
   "cell_type": "code",
   "execution_count": 95,
   "metadata": {},
   "outputs": [],
   "source": [
    "#calculate dummy variable for each first play category (sports book, casino play,\n",
    "#first games play, first poker play) which indicates whether the indiviual\n",
    "#has ever partook in these play categories\n",
    "Demographics$SpPlayed <- ifelse(is.na(Demographics$FirstSp),1,0)\n",
    "\n",
    "Demographics$CaPlayed <- ifelse(is.na(Demographics$FirstCa),1,0)\n",
    "\n",
    "Demographics$GaPlayed <- ifelse(is.na(Demographics$FirstGa),1,0)\n",
    "Demographics$PoPlayed <- ifelse(is.na(Demographics$FirstPo),1,0)"
   ]
  },
  {
   "cell_type": "code",
   "execution_count": 96,
   "metadata": {},
   "outputs": [
    {
     "data": {
      "text/html": [
       "<dl class=dl-horizontal>\n",
       "\t<dt>UserID</dt>\n",
       "\t\t<dd>0</dd>\n",
       "\t<dt>Country</dt>\n",
       "\t\t<dd>0</dd>\n",
       "\t<dt>Language</dt>\n",
       "\t\t<dd>0</dd>\n",
       "\t<dt>RegDate</dt>\n",
       "\t\t<dd>0</dd>\n",
       "\t<dt>FirstPay</dt>\n",
       "\t\t<dd>0</dd>\n",
       "\t<dt>FirstAct</dt>\n",
       "\t\t<dd>2</dd>\n",
       "\t<dt>FirstSp</dt>\n",
       "\t\t<dd>1236</dd>\n",
       "\t<dt>FirstCa</dt>\n",
       "\t\t<dd>36761</dd>\n",
       "\t<dt>FirstGa</dt>\n",
       "\t\t<dd>39376</dd>\n",
       "\t<dt>FirstPo</dt>\n",
       "\t\t<dd>40507</dd>\n",
       "\t<dt>ApplicationID</dt>\n",
       "\t\t<dd>0</dd>\n",
       "\t<dt>Gender</dt>\n",
       "\t\t<dd>1</dd>\n",
       "\t<dt>LOR</dt>\n",
       "\t\t<dd>0</dd>\n",
       "\t<dt>PTAI</dt>\n",
       "\t\t<dd>2</dd>\n",
       "\t<dt>RTFP</dt>\n",
       "\t\t<dd>0</dd>\n",
       "\t<dt>SpPlayed</dt>\n",
       "\t\t<dd>0</dd>\n",
       "\t<dt>CaPlayed</dt>\n",
       "\t\t<dd>0</dd>\n",
       "\t<dt>GaPlayed</dt>\n",
       "\t\t<dd>0</dd>\n",
       "\t<dt>PoPlayed</dt>\n",
       "\t\t<dd>0</dd>\n",
       "</dl>\n"
      ],
      "text/latex": [
       "\\begin{description*}\n",
       "\\item[UserID] 0\n",
       "\\item[Country] 0\n",
       "\\item[Language] 0\n",
       "\\item[RegDate] 0\n",
       "\\item[FirstPay] 0\n",
       "\\item[FirstAct] 2\n",
       "\\item[FirstSp] 1236\n",
       "\\item[FirstCa] 36761\n",
       "\\item[FirstGa] 39376\n",
       "\\item[FirstPo] 40507\n",
       "\\item[ApplicationID] 0\n",
       "\\item[Gender] 1\n",
       "\\item[LOR] 0\n",
       "\\item[PTAI] 2\n",
       "\\item[RTFP] 0\n",
       "\\item[SpPlayed] 0\n",
       "\\item[CaPlayed] 0\n",
       "\\item[GaPlayed] 0\n",
       "\\item[PoPlayed] 0\n",
       "\\end{description*}\n"
      ],
      "text/markdown": [
       "UserID\n",
       ":   0Country\n",
       ":   0Language\n",
       ":   0RegDate\n",
       ":   0FirstPay\n",
       ":   0FirstAct\n",
       ":   2FirstSp\n",
       ":   1236FirstCa\n",
       ":   36761FirstGa\n",
       ":   39376FirstPo\n",
       ":   40507ApplicationID\n",
       ":   0Gender\n",
       ":   1LOR\n",
       ":   0PTAI\n",
       ":   2RTFP\n",
       ":   0SpPlayed\n",
       ":   0CaPlayed\n",
       ":   0GaPlayed\n",
       ":   0PoPlayed\n",
       ":   0\n",
       "\n"
      ],
      "text/plain": [
       "       UserID       Country      Language       RegDate      FirstPay \n",
       "            0             0             0             0             0 \n",
       "     FirstAct       FirstSp       FirstCa       FirstGa       FirstPo \n",
       "            2          1236         36761         39376         40507 \n",
       "ApplicationID        Gender           LOR          PTAI          RTFP \n",
       "            0             1             0             2             0 \n",
       "     SpPlayed      CaPlayed      GaPlayed      PoPlayed \n",
       "            0             0             0             0 "
      ]
     },
     "metadata": {},
     "output_type": "display_data"
    }
   ],
   "source": [
    "sapply(Demographics,function(x) sum(is.na(x)))"
   ]
  },
  {
   "cell_type": "code",
   "execution_count": 97,
   "metadata": {},
   "outputs": [
    {
     "data": {
      "text/plain": [
       "\n",
       "    0     1 \n",
       " 3588 39060 "
      ]
     },
     "metadata": {},
     "output_type": "display_data"
    }
   ],
   "source": [
    "table(Demographics$Gender)"
   ]
  },
  {
   "cell_type": "code",
   "execution_count": 98,
   "metadata": {},
   "outputs": [],
   "source": [
    "Demographics$Gender <- ifelse(is.na(Demographics$Gender),1, Demographics$Gender)"
   ]
  },
  {
   "cell_type": "code",
   "execution_count": 99,
   "metadata": {},
   "outputs": [
    {
     "data": {
      "text/html": [
       "0"
      ],
      "text/latex": [
       "0"
      ],
      "text/markdown": [
       "0"
      ],
      "text/plain": [
       "[1] 0"
      ]
     },
     "metadata": {},
     "output_type": "display_data"
    }
   ],
   "source": [
    "sum(is.na(Demographics$Gender))"
   ]
  },
  {
   "cell_type": "code",
   "execution_count": 100,
   "metadata": {},
   "outputs": [
    {
     "data": {
      "text/html": [
       "<table>\n",
       "<thead><tr><th scope=col>UserID</th><th scope=col>Country</th><th scope=col>Language</th><th scope=col>RegDate</th><th scope=col>FirstPay</th><th scope=col>FirstAct</th><th scope=col>FirstSp</th><th scope=col>FirstCa</th><th scope=col>FirstGa</th><th scope=col>FirstPo</th><th scope=col>ApplicationID</th><th scope=col>Gender</th><th scope=col>LOR</th><th scope=col>PTAI</th><th scope=col>RTFP</th><th scope=col>SpPlayed</th><th scope=col>CaPlayed</th><th scope=col>GaPlayed</th><th scope=col>PoPlayed</th></tr></thead>\n",
       "<tbody>\n",
       "\t<tr><td>1324354   </td><td>276       </td><td>2         </td><td>2005-02-01</td><td>2005-02-24</td><td>2005-02-24</td><td>2005-02-24</td><td>NA        </td><td>NA        </td><td>NA        </td><td>3         </td><td>1         </td><td>243 days  </td><td>0 days    </td><td>23 days   </td><td>0         </td><td>1         </td><td>1         </td><td>1         </td></tr>\n",
       "\t<tr><td>1324355   </td><td>300       </td><td>8         </td><td>2005-02-01</td><td>2005-02-01</td><td>2005-02-01</td><td>2005-02-01</td><td>NA        </td><td>NA        </td><td>2005-06-11</td><td>1         </td><td>1         </td><td>243 days  </td><td>0 days    </td><td> 0 days   </td><td>0         </td><td>1         </td><td>1         </td><td>0         </td></tr>\n",
       "\t<tr><td>1324356   </td><td>276       </td><td>2         </td><td>2005-02-01</td><td>2005-02-01</td><td>2005-02-02</td><td>2005-02-02</td><td>NA        </td><td>NA        </td><td>NA        </td><td>3         </td><td>1         </td><td>243 days  </td><td>1 days    </td><td> 0 days   </td><td>0         </td><td>1         </td><td>1         </td><td>1         </td></tr>\n",
       "\t<tr><td>1324358   </td><td>752       </td><td>1         </td><td>2005-02-01</td><td>2005-02-01</td><td>2005-02-01</td><td>2005-02-01</td><td>NA        </td><td>NA        </td><td>NA        </td><td>1         </td><td>1         </td><td>243 days  </td><td>0 days    </td><td> 0 days   </td><td>0         </td><td>1         </td><td>1         </td><td>1         </td></tr>\n",
       "\t<tr><td>1324360   </td><td>792       </td><td>7         </td><td>2005-02-01</td><td>2005-02-02</td><td>2005-02-02</td><td>2005-02-02</td><td>2005-02-03</td><td>NA        </td><td>NA        </td><td>9         </td><td>1         </td><td>243 days  </td><td>0 days    </td><td> 1 days   </td><td>0         </td><td>0         </td><td>1         </td><td>1         </td></tr>\n",
       "\t<tr><td>1324362   </td><td>276       </td><td>2         </td><td>2005-02-01</td><td>2005-02-11</td><td>2005-02-11</td><td>2005-02-11</td><td>NA        </td><td>NA        </td><td>NA        </td><td>3         </td><td>1         </td><td>243 days  </td><td>0 days    </td><td>10 days   </td><td>0         </td><td>1         </td><td>1         </td><td>1         </td></tr>\n",
       "</tbody>\n",
       "</table>\n"
      ],
      "text/latex": [
       "\\begin{tabular}{r|lllllllllllllllllll}\n",
       " UserID & Country & Language & RegDate & FirstPay & FirstAct & FirstSp & FirstCa & FirstGa & FirstPo & ApplicationID & Gender & LOR & PTAI & RTFP & SpPlayed & CaPlayed & GaPlayed & PoPlayed\\\\\n",
       "\\hline\n",
       "\t 1324354    & 276        & 2          & 2005-02-01 & 2005-02-24 & 2005-02-24 & 2005-02-24 & NA         & NA         & NA         & 3          & 1          & 243 days   & 0 days     & 23 days    & 0          & 1          & 1          & 1         \\\\\n",
       "\t 1324355    & 300        & 8          & 2005-02-01 & 2005-02-01 & 2005-02-01 & 2005-02-01 & NA         & NA         & 2005-06-11 & 1          & 1          & 243 days   & 0 days     &  0 days    & 0          & 1          & 1          & 0         \\\\\n",
       "\t 1324356    & 276        & 2          & 2005-02-01 & 2005-02-01 & 2005-02-02 & 2005-02-02 & NA         & NA         & NA         & 3          & 1          & 243 days   & 1 days     &  0 days    & 0          & 1          & 1          & 1         \\\\\n",
       "\t 1324358    & 752        & 1          & 2005-02-01 & 2005-02-01 & 2005-02-01 & 2005-02-01 & NA         & NA         & NA         & 1          & 1          & 243 days   & 0 days     &  0 days    & 0          & 1          & 1          & 1         \\\\\n",
       "\t 1324360    & 792        & 7          & 2005-02-01 & 2005-02-02 & 2005-02-02 & 2005-02-02 & 2005-02-03 & NA         & NA         & 9          & 1          & 243 days   & 0 days     &  1 days    & 0          & 0          & 1          & 1         \\\\\n",
       "\t 1324362    & 276        & 2          & 2005-02-01 & 2005-02-11 & 2005-02-11 & 2005-02-11 & NA         & NA         & NA         & 3          & 1          & 243 days   & 0 days     & 10 days    & 0          & 1          & 1          & 1         \\\\\n",
       "\\end{tabular}\n"
      ],
      "text/markdown": [
       "\n",
       "| UserID | Country | Language | RegDate | FirstPay | FirstAct | FirstSp | FirstCa | FirstGa | FirstPo | ApplicationID | Gender | LOR | PTAI | RTFP | SpPlayed | CaPlayed | GaPlayed | PoPlayed |\n",
       "|---|---|---|---|---|---|---|---|---|---|---|---|---|---|---|---|---|---|---|\n",
       "| 1324354    | 276        | 2          | 2005-02-01 | 2005-02-24 | 2005-02-24 | 2005-02-24 | NA         | NA         | NA         | 3          | 1          | 243 days   | 0 days     | 23 days    | 0          | 1          | 1          | 1          |\n",
       "| 1324355    | 300        | 8          | 2005-02-01 | 2005-02-01 | 2005-02-01 | 2005-02-01 | NA         | NA         | 2005-06-11 | 1          | 1          | 243 days   | 0 days     |  0 days    | 0          | 1          | 1          | 0          |\n",
       "| 1324356    | 276        | 2          | 2005-02-01 | 2005-02-01 | 2005-02-02 | 2005-02-02 | NA         | NA         | NA         | 3          | 1          | 243 days   | 1 days     |  0 days    | 0          | 1          | 1          | 1          |\n",
       "| 1324358    | 752        | 1          | 2005-02-01 | 2005-02-01 | 2005-02-01 | 2005-02-01 | NA         | NA         | NA         | 1          | 1          | 243 days   | 0 days     |  0 days    | 0          | 1          | 1          | 1          |\n",
       "| 1324360    | 792        | 7          | 2005-02-01 | 2005-02-02 | 2005-02-02 | 2005-02-02 | 2005-02-03 | NA         | NA         | 9          | 1          | 243 days   | 0 days     |  1 days    | 0          | 0          | 1          | 1          |\n",
       "| 1324362    | 276        | 2          | 2005-02-01 | 2005-02-11 | 2005-02-11 | 2005-02-11 | NA         | NA         | NA         | 3          | 1          | 243 days   | 0 days     | 10 days    | 0          | 1          | 1          | 1          |\n",
       "\n"
      ],
      "text/plain": [
       "  UserID  Country Language RegDate    FirstPay   FirstAct   FirstSp   \n",
       "1 1324354 276     2        2005-02-01 2005-02-24 2005-02-24 2005-02-24\n",
       "2 1324355 300     8        2005-02-01 2005-02-01 2005-02-01 2005-02-01\n",
       "3 1324356 276     2        2005-02-01 2005-02-01 2005-02-02 2005-02-02\n",
       "4 1324358 752     1        2005-02-01 2005-02-01 2005-02-01 2005-02-01\n",
       "5 1324360 792     7        2005-02-01 2005-02-02 2005-02-02 2005-02-02\n",
       "6 1324362 276     2        2005-02-01 2005-02-11 2005-02-11 2005-02-11\n",
       "  FirstCa    FirstGa FirstPo    ApplicationID Gender LOR      PTAI   RTFP   \n",
       "1 <NA>       <NA>    <NA>       3             1      243 days 0 days 23 days\n",
       "2 <NA>       <NA>    2005-06-11 1             1      243 days 0 days  0 days\n",
       "3 <NA>       <NA>    <NA>       3             1      243 days 1 days  0 days\n",
       "4 <NA>       <NA>    <NA>       1             1      243 days 0 days  0 days\n",
       "5 2005-02-03 <NA>    <NA>       9             1      243 days 0 days  1 days\n",
       "6 <NA>       <NA>    <NA>       3             1      243 days 0 days 10 days\n",
       "  SpPlayed CaPlayed GaPlayed PoPlayed\n",
       "1 0        1        1        1       \n",
       "2 0        1        1        0       \n",
       "3 0        1        1        1       \n",
       "4 0        1        1        1       \n",
       "5 0        0        1        1       \n",
       "6 0        1        1        1       "
      ]
     },
     "metadata": {},
     "output_type": "display_data"
    }
   ],
   "source": [
    "head(Demographics)"
   ]
  },
  {
   "cell_type": "code",
   "execution_count": 101,
   "metadata": {},
   "outputs": [],
   "source": [
    "UserDailyAggregation$Date <- as.Date(UserDailyAggregation$Date,\"%Y%m%d\")"
   ]
  },
  {
   "cell_type": "code",
   "execution_count": 102,
   "metadata": {},
   "outputs": [
    {
     "data": {
      "text/html": [
       "0"
      ],
      "text/latex": [
       "0"
      ],
      "text/markdown": [
       "0"
      ],
      "text/plain": [
       "[1] 0"
      ]
     },
     "metadata": {},
     "output_type": "display_data"
    }
   ],
   "source": [
    "sum(is.na(UserDailyAggregation))"
   ]
  },
  {
   "cell_type": "code",
   "execution_count": 103,
   "metadata": {},
   "outputs": [
    {
     "data": {
      "text/html": [
       "<table>\n",
       "<thead><tr><th scope=col>UserID</th><th scope=col>Date</th><th scope=col>ProductID</th><th scope=col>Stakes</th><th scope=col>Winnings</th><th scope=col>Bets</th></tr></thead>\n",
       "<tbody>\n",
       "\t<tr><td>1324354   </td><td>2005-02-24</td><td>1         </td><td>20        </td><td>0         </td><td>2         </td></tr>\n",
       "\t<tr><td>1324354   </td><td>2005-02-25</td><td>1         </td><td> 0        </td><td>0         </td><td>0         </td></tr>\n",
       "\t<tr><td>1324354   </td><td>2005-02-27</td><td>1         </td><td>20        </td><td>0         </td><td>2         </td></tr>\n",
       "\t<tr><td>1324354   </td><td>2005-03-03</td><td>1         </td><td>10        </td><td>0         </td><td>1         </td></tr>\n",
       "\t<tr><td>1324354   </td><td>2005-03-04</td><td>1         </td><td>10        </td><td>0         </td><td>1         </td></tr>\n",
       "\t<tr><td>1324354   </td><td>2005-03-05</td><td>1         </td><td>10        </td><td>0         </td><td>1         </td></tr>\n",
       "</tbody>\n",
       "</table>\n"
      ],
      "text/latex": [
       "\\begin{tabular}{r|llllll}\n",
       " UserID & Date & ProductID & Stakes & Winnings & Bets\\\\\n",
       "\\hline\n",
       "\t 1324354    & 2005-02-24 & 1          & 20         & 0          & 2         \\\\\n",
       "\t 1324354    & 2005-02-25 & 1          &  0         & 0          & 0         \\\\\n",
       "\t 1324354    & 2005-02-27 & 1          & 20         & 0          & 2         \\\\\n",
       "\t 1324354    & 2005-03-03 & 1          & 10         & 0          & 1         \\\\\n",
       "\t 1324354    & 2005-03-04 & 1          & 10         & 0          & 1         \\\\\n",
       "\t 1324354    & 2005-03-05 & 1          & 10         & 0          & 1         \\\\\n",
       "\\end{tabular}\n"
      ],
      "text/markdown": [
       "\n",
       "| UserID | Date | ProductID | Stakes | Winnings | Bets |\n",
       "|---|---|---|---|---|---|\n",
       "| 1324354    | 2005-02-24 | 1          | 20         | 0          | 2          |\n",
       "| 1324354    | 2005-02-25 | 1          |  0         | 0          | 0          |\n",
       "| 1324354    | 2005-02-27 | 1          | 20         | 0          | 2          |\n",
       "| 1324354    | 2005-03-03 | 1          | 10         | 0          | 1          |\n",
       "| 1324354    | 2005-03-04 | 1          | 10         | 0          | 1          |\n",
       "| 1324354    | 2005-03-05 | 1          | 10         | 0          | 1          |\n",
       "\n"
      ],
      "text/plain": [
       "  UserID  Date       ProductID Stakes Winnings Bets\n",
       "1 1324354 2005-02-24 1         20     0        2   \n",
       "2 1324354 2005-02-25 1          0     0        0   \n",
       "3 1324354 2005-02-27 1         20     0        2   \n",
       "4 1324354 2005-03-03 1         10     0        1   \n",
       "5 1324354 2005-03-04 1         10     0        1   \n",
       "6 1324354 2005-03-05 1         10     0        1   "
      ]
     },
     "metadata": {},
     "output_type": "display_data"
    }
   ],
   "source": [
    "head(UserDailyAggregation)"
   ]
  },
  {
   "cell_type": "code",
   "execution_count": 104,
   "metadata": {},
   "outputs": [],
   "source": [
    "#Filter out transactions before first paydate\n",
    "Demographics_paydate <- Demographics %>%\n",
    "  select(UserID,FirstPay)\n",
    "\n",
    "uda_filtered <- left_join(UserDailyAggregation,Demographics_paydate,by = 'UserID')\n",
    "\n",
    "uda_filtered <- uda_filtered %>%\n",
    "  filter(Date >= FirstPay) %>%\n",
    "        select(-FirstPay)"
   ]
  },
  {
   "cell_type": "code",
   "execution_count": 105,
   "metadata": {},
   "outputs": [],
   "source": [
    "UserDailyAggregation_1 <- uda_filtered %>% \n",
    "        group_by(UserID) %>% \n",
    "        summarise(first_txn_dt=min(Date),\n",
    "                  last_txn_dt=max(Date), \n",
    "                  txn_cnt=n(), \n",
    "                  total_stakes=round(sum(Stakes)), \n",
    "                  total_wins=round(sum(Winnings)), \n",
    "                  total_bets=round(sum(Bets)), \n",
    "                  avg_stakes=round(mean(Stakes)), \n",
    "                  avg_wins=round(mean(Winnings)), \n",
    "                  avg_bets=round(mean(Bets)))"
   ]
  },
  {
   "cell_type": "code",
   "execution_count": 106,
   "metadata": {},
   "outputs": [
    {
     "data": {
      "text/html": [
       "<table>\n",
       "<thead><tr><th scope=col>UserID</th><th scope=col>first_txn_dt</th><th scope=col>last_txn_dt</th><th scope=col>txn_cnt</th><th scope=col>total_stakes</th><th scope=col>total_wins</th><th scope=col>total_bets</th><th scope=col>avg_stakes</th><th scope=col>avg_wins</th><th scope=col>avg_bets</th></tr></thead>\n",
       "<tbody>\n",
       "\t<tr><td>1324354   </td><td>2005-02-24</td><td>2005-09-30</td><td>136       </td><td>11977     </td><td>11737     </td><td>279       </td><td>88        </td><td>86        </td><td>2         </td></tr>\n",
       "\t<tr><td>1324355   </td><td>2005-02-01</td><td>2005-09-29</td><td>106       </td><td>  426     </td><td>  464     </td><td>252       </td><td> 4        </td><td> 4        </td><td>2         </td></tr>\n",
       "\t<tr><td>1324356   </td><td>2005-02-02</td><td>2005-09-12</td><td> 75       </td><td> 1365     </td><td>  911     </td><td>214       </td><td>18        </td><td>12        </td><td>3         </td></tr>\n",
       "\t<tr><td>1324358   </td><td>2005-02-01</td><td>2005-05-06</td><td>  9       </td><td>  336     </td><td>  210     </td><td> 11       </td><td>37        </td><td>23        </td><td>1         </td></tr>\n",
       "\t<tr><td>1324360   </td><td>2005-02-02</td><td>2005-09-25</td><td> 32       </td><td>   66     </td><td>   43     </td><td> 47       </td><td> 2        </td><td> 1        </td><td>1         </td></tr>\n",
       "\t<tr><td>1324362   </td><td>2005-02-11</td><td>2005-09-17</td><td>  7       </td><td>   22     </td><td>    0     </td><td>  7       </td><td> 3        </td><td> 0        </td><td>1         </td></tr>\n",
       "</tbody>\n",
       "</table>\n"
      ],
      "text/latex": [
       "\\begin{tabular}{r|llllllllll}\n",
       " UserID & first\\_txn\\_dt & last\\_txn\\_dt & txn\\_cnt & total\\_stakes & total\\_wins & total\\_bets & avg\\_stakes & avg\\_wins & avg\\_bets\\\\\n",
       "\\hline\n",
       "\t 1324354    & 2005-02-24 & 2005-09-30 & 136        & 11977      & 11737      & 279        & 88         & 86         & 2         \\\\\n",
       "\t 1324355    & 2005-02-01 & 2005-09-29 & 106        &   426      &   464      & 252        &  4         &  4         & 2         \\\\\n",
       "\t 1324356    & 2005-02-02 & 2005-09-12 &  75        &  1365      &   911      & 214        & 18         & 12         & 3         \\\\\n",
       "\t 1324358    & 2005-02-01 & 2005-05-06 &   9        &   336      &   210      &  11        & 37         & 23         & 1         \\\\\n",
       "\t 1324360    & 2005-02-02 & 2005-09-25 &  32        &    66      &    43      &  47        &  2         &  1         & 1         \\\\\n",
       "\t 1324362    & 2005-02-11 & 2005-09-17 &   7        &    22      &     0      &   7        &  3         &  0         & 1         \\\\\n",
       "\\end{tabular}\n"
      ],
      "text/markdown": [
       "\n",
       "| UserID | first_txn_dt | last_txn_dt | txn_cnt | total_stakes | total_wins | total_bets | avg_stakes | avg_wins | avg_bets |\n",
       "|---|---|---|---|---|---|---|---|---|---|\n",
       "| 1324354    | 2005-02-24 | 2005-09-30 | 136        | 11977      | 11737      | 279        | 88         | 86         | 2          |\n",
       "| 1324355    | 2005-02-01 | 2005-09-29 | 106        |   426      |   464      | 252        |  4         |  4         | 2          |\n",
       "| 1324356    | 2005-02-02 | 2005-09-12 |  75        |  1365      |   911      | 214        | 18         | 12         | 3          |\n",
       "| 1324358    | 2005-02-01 | 2005-05-06 |   9        |   336      |   210      |  11        | 37         | 23         | 1          |\n",
       "| 1324360    | 2005-02-02 | 2005-09-25 |  32        |    66      |    43      |  47        |  2         |  1         | 1          |\n",
       "| 1324362    | 2005-02-11 | 2005-09-17 |   7        |    22      |     0      |   7        |  3         |  0         | 1          |\n",
       "\n"
      ],
      "text/plain": [
       "  UserID  first_txn_dt last_txn_dt txn_cnt total_stakes total_wins total_bets\n",
       "1 1324354 2005-02-24   2005-09-30  136     11977        11737      279       \n",
       "2 1324355 2005-02-01   2005-09-29  106       426          464      252       \n",
       "3 1324356 2005-02-02   2005-09-12   75      1365          911      214       \n",
       "4 1324358 2005-02-01   2005-05-06    9       336          210       11       \n",
       "5 1324360 2005-02-02   2005-09-25   32        66           43       47       \n",
       "6 1324362 2005-02-11   2005-09-17    7        22            0        7       \n",
       "  avg_stakes avg_wins avg_bets\n",
       "1 88         86       2       \n",
       "2  4          4       2       \n",
       "3 18         12       3       \n",
       "4 37         23       1       \n",
       "5  2          1       1       \n",
       "6  3          0       1       "
      ]
     },
     "metadata": {},
     "output_type": "display_data"
    }
   ],
   "source": [
    "head(UserDailyAggregation_1)"
   ]
  },
  {
   "cell_type": "code",
   "execution_count": 107,
   "metadata": {},
   "outputs": [
    {
     "data": {
      "text/html": [
       "<table>\n",
       "<thead><tr><th scope=col>ProductID</th></tr></thead>\n",
       "<tbody>\n",
       "\t<tr><td>1</td></tr>\n",
       "\t<tr><td>2</td></tr>\n",
       "\t<tr><td>4</td></tr>\n",
       "\t<tr><td>5</td></tr>\n",
       "\t<tr><td>6</td></tr>\n",
       "\t<tr><td>7</td></tr>\n",
       "\t<tr><td>8</td></tr>\n",
       "</tbody>\n",
       "</table>\n"
      ],
      "text/latex": [
       "\\begin{tabular}{r|l}\n",
       " ProductID\\\\\n",
       "\\hline\n",
       "\t 1\\\\\n",
       "\t 2\\\\\n",
       "\t 4\\\\\n",
       "\t 5\\\\\n",
       "\t 6\\\\\n",
       "\t 7\\\\\n",
       "\t 8\\\\\n",
       "\\end{tabular}\n"
      ],
      "text/markdown": [
       "\n",
       "| ProductID |\n",
       "|---|\n",
       "| 1 |\n",
       "| 2 |\n",
       "| 4 |\n",
       "| 5 |\n",
       "| 6 |\n",
       "| 7 |\n",
       "| 8 |\n",
       "\n"
      ],
      "text/plain": [
       "  ProductID\n",
       "1 1        \n",
       "2 2        \n",
       "3 4        \n",
       "4 5        \n",
       "5 6        \n",
       "6 7        \n",
       "7 8        "
      ]
     },
     "metadata": {},
     "output_type": "display_data"
    }
   ],
   "source": [
    "p_id <- unique(UserDailyAggregation[c(\"ProductID\")])\n",
    "p_id[order(p_id$ProductID),]"
   ]
  },
  {
   "cell_type": "code",
   "execution_count": 108,
   "metadata": {},
   "outputs": [],
   "source": [
    "# Making a new dataframe with number of transactions per UserID in the given period\n",
    "UserDailyAggregation_2 <- uda_filtered %>% \n",
    "                group_by(UserID) %>% \n",
    "                summarise(procuct_1_cnt=length(ProductID[ProductID == 1]),\n",
    "                product_2_cnt=length(ProductID[ProductID == 2]),\n",
    "                product_4_cnt=length(ProductID[ProductID == 4]),\n",
    "                product_5_cnt=length(ProductID[ProductID == 5]),\n",
    "                product_6_cnt=length(ProductID[ProductID == 6]),\n",
    "                product_7_cnt=length(ProductID[ProductID == 7]),\n",
    "                product_8_cnt=length(ProductID[ProductID == 8])\n",
    "                )"
   ]
  },
  {
   "cell_type": "code",
   "execution_count": 109,
   "metadata": {},
   "outputs": [
    {
     "data": {
      "text/html": [
       "<table>\n",
       "<thead><tr><th scope=col>UserID</th><th scope=col>procuct_1_cnt</th><th scope=col>product_2_cnt</th><th scope=col>product_4_cnt</th><th scope=col>product_5_cnt</th><th scope=col>product_6_cnt</th><th scope=col>product_7_cnt</th><th scope=col>product_8_cnt</th></tr></thead>\n",
       "<tbody>\n",
       "\t<tr><td>1324354</td><td>117    </td><td>19     </td><td>0      </td><td>0      </td><td>0      </td><td>0      </td><td>0      </td></tr>\n",
       "\t<tr><td>1324355</td><td> 99    </td><td> 7     </td><td>0      </td><td>0      </td><td>0      </td><td>0      </td><td>0      </td></tr>\n",
       "\t<tr><td>1324356</td><td> 51    </td><td>24     </td><td>0      </td><td>0      </td><td>0      </td><td>0      </td><td>0      </td></tr>\n",
       "\t<tr><td>1324358</td><td>  8    </td><td> 1     </td><td>0      </td><td>0      </td><td>0      </td><td>0      </td><td>0      </td></tr>\n",
       "\t<tr><td>1324360</td><td> 29    </td><td> 2     </td><td>0      </td><td>0      </td><td>0      </td><td>0      </td><td>1      </td></tr>\n",
       "\t<tr><td>1324362</td><td>  7    </td><td> 0     </td><td>0      </td><td>0      </td><td>0      </td><td>0      </td><td>0      </td></tr>\n",
       "</tbody>\n",
       "</table>\n"
      ],
      "text/latex": [
       "\\begin{tabular}{r|llllllll}\n",
       " UserID & procuct\\_1\\_cnt & product\\_2\\_cnt & product\\_4\\_cnt & product\\_5\\_cnt & product\\_6\\_cnt & product\\_7\\_cnt & product\\_8\\_cnt\\\\\n",
       "\\hline\n",
       "\t 1324354 & 117     & 19      & 0       & 0       & 0       & 0       & 0      \\\\\n",
       "\t 1324355 &  99     &  7      & 0       & 0       & 0       & 0       & 0      \\\\\n",
       "\t 1324356 &  51     & 24      & 0       & 0       & 0       & 0       & 0      \\\\\n",
       "\t 1324358 &   8     &  1      & 0       & 0       & 0       & 0       & 0      \\\\\n",
       "\t 1324360 &  29     &  2      & 0       & 0       & 0       & 0       & 1      \\\\\n",
       "\t 1324362 &   7     &  0      & 0       & 0       & 0       & 0       & 0      \\\\\n",
       "\\end{tabular}\n"
      ],
      "text/markdown": [
       "\n",
       "| UserID | procuct_1_cnt | product_2_cnt | product_4_cnt | product_5_cnt | product_6_cnt | product_7_cnt | product_8_cnt |\n",
       "|---|---|---|---|---|---|---|---|\n",
       "| 1324354 | 117     | 19      | 0       | 0       | 0       | 0       | 0       |\n",
       "| 1324355 |  99     |  7      | 0       | 0       | 0       | 0       | 0       |\n",
       "| 1324356 |  51     | 24      | 0       | 0       | 0       | 0       | 0       |\n",
       "| 1324358 |   8     |  1      | 0       | 0       | 0       | 0       | 0       |\n",
       "| 1324360 |  29     |  2      | 0       | 0       | 0       | 0       | 1       |\n",
       "| 1324362 |   7     |  0      | 0       | 0       | 0       | 0       | 0       |\n",
       "\n"
      ],
      "text/plain": [
       "  UserID  procuct_1_cnt product_2_cnt product_4_cnt product_5_cnt product_6_cnt\n",
       "1 1324354 117           19            0             0             0            \n",
       "2 1324355  99            7            0             0             0            \n",
       "3 1324356  51           24            0             0             0            \n",
       "4 1324358   8            1            0             0             0            \n",
       "5 1324360  29            2            0             0             0            \n",
       "6 1324362   7            0            0             0             0            \n",
       "  product_7_cnt product_8_cnt\n",
       "1 0             0            \n",
       "2 0             0            \n",
       "3 0             0            \n",
       "4 0             0            \n",
       "5 0             1            \n",
       "6 0             0            "
      ]
     },
     "metadata": {},
     "output_type": "display_data"
    }
   ],
   "source": [
    "head(UserDailyAggregation_2)"
   ]
  },
  {
   "cell_type": "code",
   "execution_count": 110,
   "metadata": {},
   "outputs": [
    {
     "data": {
      "text/html": [
       "<dl class=dl-horizontal>\n",
       "\t<dt>UserID</dt>\n",
       "\t\t<dd>0</dd>\n",
       "\t<dt>first_txn_dt</dt>\n",
       "\t\t<dd>0</dd>\n",
       "\t<dt>last_txn_dt</dt>\n",
       "\t\t<dd>0</dd>\n",
       "\t<dt>txn_cnt</dt>\n",
       "\t\t<dd>0</dd>\n",
       "\t<dt>total_stakes</dt>\n",
       "\t\t<dd>0</dd>\n",
       "\t<dt>total_wins</dt>\n",
       "\t\t<dd>0</dd>\n",
       "\t<dt>total_bets</dt>\n",
       "\t\t<dd>0</dd>\n",
       "\t<dt>avg_stakes</dt>\n",
       "\t\t<dd>0</dd>\n",
       "\t<dt>avg_wins</dt>\n",
       "\t\t<dd>0</dd>\n",
       "\t<dt>avg_bets</dt>\n",
       "\t\t<dd>0</dd>\n",
       "</dl>\n"
      ],
      "text/latex": [
       "\\begin{description*}\n",
       "\\item[UserID] 0\n",
       "\\item[first\\textbackslash{}\\_txn\\textbackslash{}\\_dt] 0\n",
       "\\item[last\\textbackslash{}\\_txn\\textbackslash{}\\_dt] 0\n",
       "\\item[txn\\textbackslash{}\\_cnt] 0\n",
       "\\item[total\\textbackslash{}\\_stakes] 0\n",
       "\\item[total\\textbackslash{}\\_wins] 0\n",
       "\\item[total\\textbackslash{}\\_bets] 0\n",
       "\\item[avg\\textbackslash{}\\_stakes] 0\n",
       "\\item[avg\\textbackslash{}\\_wins] 0\n",
       "\\item[avg\\textbackslash{}\\_bets] 0\n",
       "\\end{description*}\n"
      ],
      "text/markdown": [
       "UserID\n",
       ":   0first_txn_dt\n",
       ":   0last_txn_dt\n",
       ":   0txn_cnt\n",
       ":   0total_stakes\n",
       ":   0total_wins\n",
       ":   0total_bets\n",
       ":   0avg_stakes\n",
       ":   0avg_wins\n",
       ":   0avg_bets\n",
       ":   0\n",
       "\n"
      ],
      "text/plain": [
       "      UserID first_txn_dt  last_txn_dt      txn_cnt total_stakes   total_wins \n",
       "           0            0            0            0            0            0 \n",
       "  total_bets   avg_stakes     avg_wins     avg_bets \n",
       "           0            0            0            0 "
      ]
     },
     "metadata": {},
     "output_type": "display_data"
    }
   ],
   "source": [
    "sapply(UserDailyAggregation_1,function(x) sum(is.na(x)))"
   ]
  },
  {
   "cell_type": "code",
   "execution_count": 111,
   "metadata": {},
   "outputs": [
    {
     "data": {
      "text/html": [
       "<table>\n",
       "<thead><tr><th scope=col>UserID</th><th scope=col>Date</th><th scope=col>ProductID</th><th scope=col>Stakes</th><th scope=col>Winnings</th><th scope=col>Bets</th></tr></thead>\n",
       "<tbody>\n",
       "\t<tr><td>1324354   </td><td>2005-02-24</td><td>1         </td><td>20        </td><td>0         </td><td>2         </td></tr>\n",
       "\t<tr><td>1324354   </td><td>2005-02-25</td><td>1         </td><td> 0        </td><td>0         </td><td>0         </td></tr>\n",
       "\t<tr><td>1324354   </td><td>2005-02-27</td><td>1         </td><td>20        </td><td>0         </td><td>2         </td></tr>\n",
       "\t<tr><td>1324354   </td><td>2005-03-03</td><td>1         </td><td>10        </td><td>0         </td><td>1         </td></tr>\n",
       "\t<tr><td>1324354   </td><td>2005-03-04</td><td>1         </td><td>10        </td><td>0         </td><td>1         </td></tr>\n",
       "\t<tr><td>1324354   </td><td>2005-03-05</td><td>1         </td><td>10        </td><td>0         </td><td>1         </td></tr>\n",
       "</tbody>\n",
       "</table>\n"
      ],
      "text/latex": [
       "\\begin{tabular}{r|llllll}\n",
       " UserID & Date & ProductID & Stakes & Winnings & Bets\\\\\n",
       "\\hline\n",
       "\t 1324354    & 2005-02-24 & 1          & 20         & 0          & 2         \\\\\n",
       "\t 1324354    & 2005-02-25 & 1          &  0         & 0          & 0         \\\\\n",
       "\t 1324354    & 2005-02-27 & 1          & 20         & 0          & 2         \\\\\n",
       "\t 1324354    & 2005-03-03 & 1          & 10         & 0          & 1         \\\\\n",
       "\t 1324354    & 2005-03-04 & 1          & 10         & 0          & 1         \\\\\n",
       "\t 1324354    & 2005-03-05 & 1          & 10         & 0          & 1         \\\\\n",
       "\\end{tabular}\n"
      ],
      "text/markdown": [
       "\n",
       "| UserID | Date | ProductID | Stakes | Winnings | Bets |\n",
       "|---|---|---|---|---|---|\n",
       "| 1324354    | 2005-02-24 | 1          | 20         | 0          | 2          |\n",
       "| 1324354    | 2005-02-25 | 1          |  0         | 0          | 0          |\n",
       "| 1324354    | 2005-02-27 | 1          | 20         | 0          | 2          |\n",
       "| 1324354    | 2005-03-03 | 1          | 10         | 0          | 1          |\n",
       "| 1324354    | 2005-03-04 | 1          | 10         | 0          | 1          |\n",
       "| 1324354    | 2005-03-05 | 1          | 10         | 0          | 1          |\n",
       "\n"
      ],
      "text/plain": [
       "  UserID  Date       ProductID Stakes Winnings Bets\n",
       "1 1324354 2005-02-24 1         20     0        2   \n",
       "2 1324354 2005-02-25 1          0     0        0   \n",
       "3 1324354 2005-02-27 1         20     0        2   \n",
       "4 1324354 2005-03-03 1         10     0        1   \n",
       "5 1324354 2005-03-04 1         10     0        1   \n",
       "6 1324354 2005-03-05 1         10     0        1   "
      ]
     },
     "metadata": {},
     "output_type": "display_data"
    }
   ],
   "source": [
    "head(UserDailyAggregation)"
   ]
  },
  {
   "cell_type": "code",
   "execution_count": 112,
   "metadata": {},
   "outputs": [],
   "source": [
    "uda_cleaned <- merge(x = UserDailyAggregation_1, y = UserDailyAggregation_2, by = \"UserID\", all.x = TRUE)"
   ]
  },
  {
   "cell_type": "code",
   "execution_count": 113,
   "metadata": {},
   "outputs": [
    {
     "data": {
      "text/html": [
       "<table>\n",
       "<thead><tr><th scope=col>UserID</th><th scope=col>first_txn_dt</th><th scope=col>last_txn_dt</th><th scope=col>txn_cnt</th><th scope=col>total_stakes</th><th scope=col>total_wins</th><th scope=col>total_bets</th><th scope=col>avg_stakes</th><th scope=col>avg_wins</th><th scope=col>avg_bets</th><th scope=col>procuct_1_cnt</th><th scope=col>product_2_cnt</th><th scope=col>product_4_cnt</th><th scope=col>product_5_cnt</th><th scope=col>product_6_cnt</th><th scope=col>product_7_cnt</th><th scope=col>product_8_cnt</th></tr></thead>\n",
       "<tbody>\n",
       "\t<tr><td>1324354   </td><td>2005-02-24</td><td>2005-09-30</td><td>136       </td><td>11977     </td><td>11737     </td><td>279       </td><td>88        </td><td>86        </td><td>2         </td><td>117       </td><td>19        </td><td>0         </td><td>0         </td><td>0         </td><td>0         </td><td>0         </td></tr>\n",
       "\t<tr><td>1324355   </td><td>2005-02-01</td><td>2005-09-29</td><td>106       </td><td>  426     </td><td>  464     </td><td>252       </td><td> 4        </td><td> 4        </td><td>2         </td><td> 99       </td><td> 7        </td><td>0         </td><td>0         </td><td>0         </td><td>0         </td><td>0         </td></tr>\n",
       "\t<tr><td>1324356   </td><td>2005-02-02</td><td>2005-09-12</td><td> 75       </td><td> 1365     </td><td>  911     </td><td>214       </td><td>18        </td><td>12        </td><td>3         </td><td> 51       </td><td>24        </td><td>0         </td><td>0         </td><td>0         </td><td>0         </td><td>0         </td></tr>\n",
       "\t<tr><td>1324358   </td><td>2005-02-01</td><td>2005-05-06</td><td>  9       </td><td>  336     </td><td>  210     </td><td> 11       </td><td>37        </td><td>23        </td><td>1         </td><td>  8       </td><td> 1        </td><td>0         </td><td>0         </td><td>0         </td><td>0         </td><td>0         </td></tr>\n",
       "\t<tr><td>1324360   </td><td>2005-02-02</td><td>2005-09-25</td><td> 32       </td><td>   66     </td><td>   43     </td><td> 47       </td><td> 2        </td><td> 1        </td><td>1         </td><td> 29       </td><td> 2        </td><td>0         </td><td>0         </td><td>0         </td><td>0         </td><td>1         </td></tr>\n",
       "\t<tr><td>1324362   </td><td>2005-02-11</td><td>2005-09-17</td><td>  7       </td><td>   22     </td><td>    0     </td><td>  7       </td><td> 3        </td><td> 0        </td><td>1         </td><td>  7       </td><td> 0        </td><td>0         </td><td>0         </td><td>0         </td><td>0         </td><td>0         </td></tr>\n",
       "</tbody>\n",
       "</table>\n"
      ],
      "text/latex": [
       "\\begin{tabular}{r|lllllllllllllllll}\n",
       " UserID & first\\_txn\\_dt & last\\_txn\\_dt & txn\\_cnt & total\\_stakes & total\\_wins & total\\_bets & avg\\_stakes & avg\\_wins & avg\\_bets & procuct\\_1\\_cnt & product\\_2\\_cnt & product\\_4\\_cnt & product\\_5\\_cnt & product\\_6\\_cnt & product\\_7\\_cnt & product\\_8\\_cnt\\\\\n",
       "\\hline\n",
       "\t 1324354    & 2005-02-24 & 2005-09-30 & 136        & 11977      & 11737      & 279        & 88         & 86         & 2          & 117        & 19         & 0          & 0          & 0          & 0          & 0         \\\\\n",
       "\t 1324355    & 2005-02-01 & 2005-09-29 & 106        &   426      &   464      & 252        &  4         &  4         & 2          &  99        &  7         & 0          & 0          & 0          & 0          & 0         \\\\\n",
       "\t 1324356    & 2005-02-02 & 2005-09-12 &  75        &  1365      &   911      & 214        & 18         & 12         & 3          &  51        & 24         & 0          & 0          & 0          & 0          & 0         \\\\\n",
       "\t 1324358    & 2005-02-01 & 2005-05-06 &   9        &   336      &   210      &  11        & 37         & 23         & 1          &   8        &  1         & 0          & 0          & 0          & 0          & 0         \\\\\n",
       "\t 1324360    & 2005-02-02 & 2005-09-25 &  32        &    66      &    43      &  47        &  2         &  1         & 1          &  29        &  2         & 0          & 0          & 0          & 0          & 1         \\\\\n",
       "\t 1324362    & 2005-02-11 & 2005-09-17 &   7        &    22      &     0      &   7        &  3         &  0         & 1          &   7        &  0         & 0          & 0          & 0          & 0          & 0         \\\\\n",
       "\\end{tabular}\n"
      ],
      "text/markdown": [
       "\n",
       "| UserID | first_txn_dt | last_txn_dt | txn_cnt | total_stakes | total_wins | total_bets | avg_stakes | avg_wins | avg_bets | procuct_1_cnt | product_2_cnt | product_4_cnt | product_5_cnt | product_6_cnt | product_7_cnt | product_8_cnt |\n",
       "|---|---|---|---|---|---|---|---|---|---|---|---|---|---|---|---|---|\n",
       "| 1324354    | 2005-02-24 | 2005-09-30 | 136        | 11977      | 11737      | 279        | 88         | 86         | 2          | 117        | 19         | 0          | 0          | 0          | 0          | 0          |\n",
       "| 1324355    | 2005-02-01 | 2005-09-29 | 106        |   426      |   464      | 252        |  4         |  4         | 2          |  99        |  7         | 0          | 0          | 0          | 0          | 0          |\n",
       "| 1324356    | 2005-02-02 | 2005-09-12 |  75        |  1365      |   911      | 214        | 18         | 12         | 3          |  51        | 24         | 0          | 0          | 0          | 0          | 0          |\n",
       "| 1324358    | 2005-02-01 | 2005-05-06 |   9        |   336      |   210      |  11        | 37         | 23         | 1          |   8        |  1         | 0          | 0          | 0          | 0          | 0          |\n",
       "| 1324360    | 2005-02-02 | 2005-09-25 |  32        |    66      |    43      |  47        |  2         |  1         | 1          |  29        |  2         | 0          | 0          | 0          | 0          | 1          |\n",
       "| 1324362    | 2005-02-11 | 2005-09-17 |   7        |    22      |     0      |   7        |  3         |  0         | 1          |   7        |  0         | 0          | 0          | 0          | 0          | 0          |\n",
       "\n"
      ],
      "text/plain": [
       "  UserID  first_txn_dt last_txn_dt txn_cnt total_stakes total_wins total_bets\n",
       "1 1324354 2005-02-24   2005-09-30  136     11977        11737      279       \n",
       "2 1324355 2005-02-01   2005-09-29  106       426          464      252       \n",
       "3 1324356 2005-02-02   2005-09-12   75      1365          911      214       \n",
       "4 1324358 2005-02-01   2005-05-06    9       336          210       11       \n",
       "5 1324360 2005-02-02   2005-09-25   32        66           43       47       \n",
       "6 1324362 2005-02-11   2005-09-17    7        22            0        7       \n",
       "  avg_stakes avg_wins avg_bets procuct_1_cnt product_2_cnt product_4_cnt\n",
       "1 88         86       2        117           19            0            \n",
       "2  4          4       2         99            7            0            \n",
       "3 18         12       3         51           24            0            \n",
       "4 37         23       1          8            1            0            \n",
       "5  2          1       1         29            2            0            \n",
       "6  3          0       1          7            0            0            \n",
       "  product_5_cnt product_6_cnt product_7_cnt product_8_cnt\n",
       "1 0             0             0             0            \n",
       "2 0             0             0             0            \n",
       "3 0             0             0             0            \n",
       "4 0             0             0             0            \n",
       "5 0             0             0             1            \n",
       "6 0             0             0             0            "
      ]
     },
     "metadata": {},
     "output_type": "display_data"
    }
   ],
   "source": [
    "head(uda_cleaned)"
   ]
  },
  {
   "cell_type": "code",
   "execution_count": 114,
   "metadata": {},
   "outputs": [
    {
     "data": {
      "text/html": [
       "<ol class=list-inline>\n",
       "\t<li>'UserID'</li>\n",
       "\t<li>'first_txn_dt'</li>\n",
       "\t<li>'last_txn_dt'</li>\n",
       "\t<li>'txn_cnt'</li>\n",
       "\t<li>'total_stakes'</li>\n",
       "\t<li>'total_wins'</li>\n",
       "\t<li>'total_bets'</li>\n",
       "\t<li>'avg_stakes'</li>\n",
       "\t<li>'avg_wins'</li>\n",
       "\t<li>'avg_bets'</li>\n",
       "\t<li>'procuct_1_cnt'</li>\n",
       "\t<li>'product_2_cnt'</li>\n",
       "\t<li>'product_4_cnt'</li>\n",
       "\t<li>'product_5_cnt'</li>\n",
       "\t<li>'product_6_cnt'</li>\n",
       "\t<li>'product_7_cnt'</li>\n",
       "\t<li>'product_8_cnt'</li>\n",
       "</ol>\n"
      ],
      "text/latex": [
       "\\begin{enumerate*}\n",
       "\\item 'UserID'\n",
       "\\item 'first\\_txn\\_dt'\n",
       "\\item 'last\\_txn\\_dt'\n",
       "\\item 'txn\\_cnt'\n",
       "\\item 'total\\_stakes'\n",
       "\\item 'total\\_wins'\n",
       "\\item 'total\\_bets'\n",
       "\\item 'avg\\_stakes'\n",
       "\\item 'avg\\_wins'\n",
       "\\item 'avg\\_bets'\n",
       "\\item 'procuct\\_1\\_cnt'\n",
       "\\item 'product\\_2\\_cnt'\n",
       "\\item 'product\\_4\\_cnt'\n",
       "\\item 'product\\_5\\_cnt'\n",
       "\\item 'product\\_6\\_cnt'\n",
       "\\item 'product\\_7\\_cnt'\n",
       "\\item 'product\\_8\\_cnt'\n",
       "\\end{enumerate*}\n"
      ],
      "text/markdown": [
       "1. 'UserID'\n",
       "2. 'first_txn_dt'\n",
       "3. 'last_txn_dt'\n",
       "4. 'txn_cnt'\n",
       "5. 'total_stakes'\n",
       "6. 'total_wins'\n",
       "7. 'total_bets'\n",
       "8. 'avg_stakes'\n",
       "9. 'avg_wins'\n",
       "10. 'avg_bets'\n",
       "11. 'procuct_1_cnt'\n",
       "12. 'product_2_cnt'\n",
       "13. 'product_4_cnt'\n",
       "14. 'product_5_cnt'\n",
       "15. 'product_6_cnt'\n",
       "16. 'product_7_cnt'\n",
       "17. 'product_8_cnt'\n",
       "\n",
       "\n"
      ],
      "text/plain": [
       " [1] \"UserID\"        \"first_txn_dt\"  \"last_txn_dt\"   \"txn_cnt\"      \n",
       " [5] \"total_stakes\"  \"total_wins\"    \"total_bets\"    \"avg_stakes\"   \n",
       " [9] \"avg_wins\"      \"avg_bets\"      \"procuct_1_cnt\" \"product_2_cnt\"\n",
       "[13] \"product_4_cnt\" \"product_5_cnt\" \"product_6_cnt\" \"product_7_cnt\"\n",
       "[17] \"product_8_cnt\""
      ]
     },
     "metadata": {},
     "output_type": "display_data"
    }
   ],
   "source": [
    "names(uda_cleaned)"
   ]
  },
  {
   "cell_type": "code",
   "execution_count": 115,
   "metadata": {},
   "outputs": [
    {
     "name": "stderr",
     "output_type": "stream",
     "text": [
      "Warning message:\n",
      "\"Column `UserID` has different attributes on LHS and RHS of join\""
     ]
    }
   ],
   "source": [
    "#Calculate Recency, Frequency and Monetary Value\n",
    "#Get max date\n",
    "\n",
    "#calculate recency and frequency\n",
    "UserDailyAggregation_rfm <- uda_filtered %>% \n",
    "  group_by(UserID) %>% \n",
    "  summarise(recency = as.numeric(october - max(Date)),\n",
    "            frequency = n(),\n",
    "            monetary_value = sum(Winnings))\n",
    "\n",
    "#Fill na with 0s\n",
    "UserDailyAggregation_rfm[is.na(UserDailyAggregation_rfm)] = 0\n",
    "\n",
    "#calculate RFM Score\n",
    "UserDailyAggregation_rfm <- UserDailyAggregation_rfm %>%\n",
    "  mutate(rfm_value = recency + frequency + monetary_value)\n",
    "\n",
    "\n",
    "uda_cleaned <- left_join(uda_cleaned,UserDailyAggregation_rfm,by='UserID')\n",
    "\n",
    "UserDailyAggregation_rfm <- UserDailyAggregation_rfm %>%\n",
    "  mutate(recency_score = as.numeric(cut2(-recency, g=4)),\n",
    "         frequency_score = as.numeric(cut2(frequency, g=4)),\n",
    "         value_score = as.numeric(cut2(monetary_value, g=4)))\n",
    "UserDailyAggregation_rfm <- UserDailyAggregation_rfm %>%\n",
    "  mutate(recency_score = recency_score *0.2,\n",
    "         frequency_score = frequency_score *0.2,\n",
    "         value_score = value_score *0.6)\n",
    "\n",
    "UserDailyAggregation_rfm$weighted_score <- rowMeans(UserDailyAggregation_rfm[,c(\"recency_score\",\"frequency_score\",\"value_score\")])\n",
    "\n"
   ]
  },
  {
   "cell_type": "code",
   "execution_count": 116,
   "metadata": {},
   "outputs": [],
   "source": [
    "uda_cleaned$profit <- uda_cleaned$total_stakes - uda_cleaned$total_wins"
   ]
  },
  {
   "cell_type": "code",
   "execution_count": 117,
   "metadata": {},
   "outputs": [],
   "source": [
    "PokerChipConversions_buy <- PokerChipConversions %>% \n",
    "                          group_by(UserID) %>% \n",
    "                            filter(TransType == 124) %>% \n",
    "                            summarise(total_buy = sum(TransAmount),\n",
    "                                      avg_buy = mean(TransAmount),\n",
    "                                      min_buy = min(TransAmount),\n",
    "                                      max_buy = max(TransAmount))\n",
    "\n",
    "PokerChipConversions_sell <- PokerChipConversions %>% \n",
    "                                group_by(UserID) %>% \n",
    "                                filter(TransType == 24) %>% \n",
    "                                summarise(total_sell = sum(TransAmount),\n",
    "                                          avg_sell = mean(TransAmount),\n",
    "                                          min_sell = min(TransAmount),\n",
    "                                          max_sell = max(TransAmount))\n",
    "\n",
    "PokerChipConversions_2 <- full_join(x=PokerChipConversions_buy,y=PokerChipConversions_sell, by='UserID')"
   ]
  },
  {
   "cell_type": "code",
   "execution_count": 127,
   "metadata": {},
   "outputs": [],
   "source": [
    "PokerChipConversions$Date <- as.POSIXlt(strptime(PokerChipConversions$TransDateTime, format = \"%Y-%m-%d %H:%M:%S\",tz=\"UTC\"))\n",
    "PokerChipConversions$Date <- as.Date(PokerChipConversions$Date)\n",
    "PokerChipConversions_3 <- PokerChipConversions %>%\n",
    "group_by(UserID,Date) %>%\n",
    "filter(TransType == 24) %>%\n",
    "dplyr::summarise(total_sell = sum(TransAmount))\n",
    "uda_poker_table <- full_join(PokerChipConversions_3,uda_filtered,by=c('UserID','Date'),all.y=TRUE)\n",
    "uda_poker_table[is.na(uda_poker_table)] = 0\n",
    "uda_poker_table$total_amount = uda_poker_table$Winnings + uda_poker_table$total_sell\n",
    "UserDailyAggregation_rfm_c <- rfm_table_order(data = uda_poker_table,customer_id = UserID,order_date = Date,revenue = total_amount,analysis_date = october )\n",
    "UserDailyAggregation_rfm_2 <- UserDailyAggregation_rfm_c$rfm\n",
    "names(UserDailyAggregation_rfm_2)[1] <- 'UserID'"
   ]
  },
  {
   "cell_type": "code",
   "execution_count": 128,
   "metadata": {},
   "outputs": [
    {
     "name": "stderr",
     "output_type": "stream",
     "text": [
      "Warning message:\n",
      "\"Column `UserID` has different attributes on LHS and RHS of join\"Warning message:\n",
      "\"Column `UserID` has different attributes on LHS and RHS of join\""
     ]
    }
   ],
   "source": [
    "base_table <- merge(x= Demographics,y=uda_cleaned,by='UserID',all.x=TRUE)\n",
    "base_table <- left_join(base_table,PokerChipConversions_2,by='UserID')\n",
    "base_table <- left_join(base_table,UserDailyAggregation_rfm_2,by='UserID')"
   ]
  },
  {
   "cell_type": "code",
   "execution_count": 205,
   "metadata": {},
   "outputs": [],
   "source": [
    "base_table <- base_table %>%\n",
    "mutate(w_recency_score = recency_score *0.2,\n",
    "w_frequency_score = frequency_score *0.2,\n",
    "w_monetary_score = monetary_score *0.6)\n",
    "base_table$weighted_rfm <- rowMeans(base_table[,c(\"w_recency_score\",\"w_frequency_score\",\"w_monetary_score\")])\n",
    "base_table$Loyality <- ifelse(base_table$weighted_rfm > 1.6, 'Loyalists',\n",
    "ifelse((base_table$weighted_rfm <= 1.6) & (base_table$weighted_rfm > 1.3),'Potential Loyalists',\n",
    "ifelse((base_table$weighted_rfm <= 1.3) & (base_table$weighted_rfm > 0.7),'Regular Customers',\n",
    "ifelse((base_table$weighted_rfm <= 0.7) & (base_table$weighted_rfm > 0.4),'Hesitant Customers','Needs Attention'\n",
    "))))"
   ]
  },
  {
   "cell_type": "code",
   "execution_count": 206,
   "metadata": {},
   "outputs": [
    {
     "data": {
      "text/html": [
       "<table>\n",
       "<thead><tr><th scope=col>UserID</th><th scope=col>Country</th><th scope=col>Language</th><th scope=col>RegDate</th><th scope=col>FirstPay</th><th scope=col>FirstAct</th><th scope=col>FirstSp</th><th scope=col>FirstCa</th><th scope=col>FirstGa</th><th scope=col>FirstPo</th><th scope=col>...</th><th scope=col>amount</th><th scope=col>recency_score</th><th scope=col>frequency_score</th><th scope=col>monetary_score</th><th scope=col>rfm_score</th><th scope=col>w_recency_score</th><th scope=col>w_frequency_score</th><th scope=col>w_monetary_score</th><th scope=col>weighted_rfm</th><th scope=col>Loyality</th></tr></thead>\n",
       "<tbody>\n",
       "\t<tr><td>1324354            </td><td>276                </td><td>2                  </td><td>2005-02-01         </td><td>2005-02-24         </td><td>2005-02-24         </td><td>2005-02-24         </td><td>NA                 </td><td>NA                 </td><td>NA                 </td><td>...                </td><td>11736.6100         </td><td>5                  </td><td>5                  </td><td>5                  </td><td>555                </td><td>1.0                </td><td>1.0                </td><td>3.0                </td><td>1.6666667          </td><td>Loyalists          </td></tr>\n",
       "\t<tr><td>1324355            </td><td>300                </td><td>8                  </td><td>2005-02-01         </td><td>2005-02-01         </td><td>2005-02-01         </td><td>2005-02-01         </td><td>NA                 </td><td>NA                 </td><td>2005-06-11         </td><td>...                </td><td>  472.7593         </td><td>5                  </td><td>5                  </td><td>4                  </td><td>554                </td><td>1.0                </td><td>1.0                </td><td>2.4                </td><td>1.4666667          </td><td>Potential Loyalists</td></tr>\n",
       "\t<tr><td>1324356            </td><td>276                </td><td>2                  </td><td>2005-02-01         </td><td>2005-02-01         </td><td>2005-02-02         </td><td>2005-02-02         </td><td>NA                 </td><td>NA                 </td><td>NA                 </td><td>...                </td><td>  910.6600         </td><td>4                  </td><td>5                  </td><td>4                  </td><td>454                </td><td>0.8                </td><td>1.0                </td><td>2.4                </td><td>1.4000000          </td><td>Potential Loyalists</td></tr>\n",
       "\t<tr><td>1324358            </td><td>752                </td><td>1                  </td><td>2005-02-01         </td><td>2005-02-01         </td><td>2005-02-01         </td><td>2005-02-01         </td><td>NA                 </td><td>NA                 </td><td>NA                 </td><td>...                </td><td>  209.8575         </td><td>2                  </td><td>2                  </td><td>3                  </td><td>223                </td><td>0.4                </td><td>0.4                </td><td>1.8                </td><td>0.8666667          </td><td>Regular Customers  </td></tr>\n",
       "\t<tr><td>1324360            </td><td>792                </td><td>7                  </td><td>2005-02-01         </td><td>2005-02-02         </td><td>2005-02-02         </td><td>2005-02-02         </td><td>2005-02-03         </td><td>NA                 </td><td>NA                 </td><td>...                </td><td>   43.1573         </td><td>4                  </td><td>3                  </td><td>2                  </td><td>432                </td><td>0.8                </td><td>0.6                </td><td>1.2                </td><td>0.8666667          </td><td>Regular Customers  </td></tr>\n",
       "\t<tr><td>1324362            </td><td>276                </td><td>2                  </td><td>2005-02-01         </td><td>2005-02-11         </td><td>2005-02-11         </td><td>2005-02-11         </td><td>NA                 </td><td>NA                 </td><td>NA                 </td><td>...                </td><td>    0.0000         </td><td>4                  </td><td>2                  </td><td>1                  </td><td>421                </td><td>0.8                </td><td>0.4                </td><td>0.6                </td><td>0.6000000          </td><td>Hesitant Customers </td></tr>\n",
       "</tbody>\n",
       "</table>\n"
      ],
      "text/latex": [
       "\\begin{tabular}{r|lllllllllllllllllllllllllllllllllllllllllllllllllllllllllllll}\n",
       " UserID & Country & Language & RegDate & FirstPay & FirstAct & FirstSp & FirstCa & FirstGa & FirstPo & ... & amount & recency\\_score & frequency\\_score & monetary\\_score & rfm\\_score & w\\_recency\\_score & w\\_frequency\\_score & w\\_monetary\\_score & weighted\\_rfm & Loyality\\\\\n",
       "\\hline\n",
       "\t 1324354             & 276                 & 2                   & 2005-02-01          & 2005-02-24          & 2005-02-24          & 2005-02-24          & NA                  & NA                  & NA                  & ...                 & 11736.6100          & 5                   & 5                   & 5                   & 555                 & 1.0                 & 1.0                 & 3.0                 & 1.6666667           & Loyalists          \\\\\n",
       "\t 1324355             & 300                 & 8                   & 2005-02-01          & 2005-02-01          & 2005-02-01          & 2005-02-01          & NA                  & NA                  & 2005-06-11          & ...                 &   472.7593          & 5                   & 5                   & 4                   & 554                 & 1.0                 & 1.0                 & 2.4                 & 1.4666667           & Potential Loyalists\\\\\n",
       "\t 1324356             & 276                 & 2                   & 2005-02-01          & 2005-02-01          & 2005-02-02          & 2005-02-02          & NA                  & NA                  & NA                  & ...                 &   910.6600          & 4                   & 5                   & 4                   & 454                 & 0.8                 & 1.0                 & 2.4                 & 1.4000000           & Potential Loyalists\\\\\n",
       "\t 1324358             & 752                 & 1                   & 2005-02-01          & 2005-02-01          & 2005-02-01          & 2005-02-01          & NA                  & NA                  & NA                  & ...                 &   209.8575          & 2                   & 2                   & 3                   & 223                 & 0.4                 & 0.4                 & 1.8                 & 0.8666667           & Regular Customers  \\\\\n",
       "\t 1324360             & 792                 & 7                   & 2005-02-01          & 2005-02-02          & 2005-02-02          & 2005-02-02          & 2005-02-03          & NA                  & NA                  & ...                 &    43.1573          & 4                   & 3                   & 2                   & 432                 & 0.8                 & 0.6                 & 1.2                 & 0.8666667           & Regular Customers  \\\\\n",
       "\t 1324362             & 276                 & 2                   & 2005-02-01          & 2005-02-11          & 2005-02-11          & 2005-02-11          & NA                  & NA                  & NA                  & ...                 &     0.0000          & 4                   & 2                   & 1                   & 421                 & 0.8                 & 0.4                 & 0.6                 & 0.6000000           & Hesitant Customers \\\\\n",
       "\\end{tabular}\n"
      ],
      "text/markdown": [
       "\n",
       "| UserID | Country | Language | RegDate | FirstPay | FirstAct | FirstSp | FirstCa | FirstGa | FirstPo | ... | amount | recency_score | frequency_score | monetary_score | rfm_score | w_recency_score | w_frequency_score | w_monetary_score | weighted_rfm | Loyality |\n",
       "|---|---|---|---|---|---|---|---|---|---|---|---|---|---|---|---|---|---|---|---|---|\n",
       "| 1324354             | 276                 | 2                   | 2005-02-01          | 2005-02-24          | 2005-02-24          | 2005-02-24          | NA                  | NA                  | NA                  | ...                 | 11736.6100          | 5                   | 5                   | 5                   | 555                 | 1.0                 | 1.0                 | 3.0                 | 1.6666667           | Loyalists           |\n",
       "| 1324355             | 300                 | 8                   | 2005-02-01          | 2005-02-01          | 2005-02-01          | 2005-02-01          | NA                  | NA                  | 2005-06-11          | ...                 |   472.7593          | 5                   | 5                   | 4                   | 554                 | 1.0                 | 1.0                 | 2.4                 | 1.4666667           | Potential Loyalists |\n",
       "| 1324356             | 276                 | 2                   | 2005-02-01          | 2005-02-01          | 2005-02-02          | 2005-02-02          | NA                  | NA                  | NA                  | ...                 |   910.6600          | 4                   | 5                   | 4                   | 454                 | 0.8                 | 1.0                 | 2.4                 | 1.4000000           | Potential Loyalists |\n",
       "| 1324358             | 752                 | 1                   | 2005-02-01          | 2005-02-01          | 2005-02-01          | 2005-02-01          | NA                  | NA                  | NA                  | ...                 |   209.8575          | 2                   | 2                   | 3                   | 223                 | 0.4                 | 0.4                 | 1.8                 | 0.8666667           | Regular Customers   |\n",
       "| 1324360             | 792                 | 7                   | 2005-02-01          | 2005-02-02          | 2005-02-02          | 2005-02-02          | 2005-02-03          | NA                  | NA                  | ...                 |    43.1573          | 4                   | 3                   | 2                   | 432                 | 0.8                 | 0.6                 | 1.2                 | 0.8666667           | Regular Customers   |\n",
       "| 1324362             | 276                 | 2                   | 2005-02-01          | 2005-02-11          | 2005-02-11          | 2005-02-11          | NA                  | NA                  | NA                  | ...                 |     0.0000          | 4                   | 2                   | 1                   | 421                 | 0.8                 | 0.4                 | 0.6                 | 0.6000000           | Hesitant Customers  |\n",
       "\n"
      ],
      "text/plain": [
       "  UserID  Country Language RegDate    FirstPay   FirstAct   FirstSp   \n",
       "1 1324354 276     2        2005-02-01 2005-02-24 2005-02-24 2005-02-24\n",
       "2 1324355 300     8        2005-02-01 2005-02-01 2005-02-01 2005-02-01\n",
       "3 1324356 276     2        2005-02-01 2005-02-01 2005-02-02 2005-02-02\n",
       "4 1324358 752     1        2005-02-01 2005-02-01 2005-02-01 2005-02-01\n",
       "5 1324360 792     7        2005-02-01 2005-02-02 2005-02-02 2005-02-02\n",
       "6 1324362 276     2        2005-02-01 2005-02-11 2005-02-11 2005-02-11\n",
       "  FirstCa    FirstGa FirstPo    ... amount     recency_score frequency_score\n",
       "1 <NA>       <NA>    <NA>       ... 11736.6100 5             5              \n",
       "2 <NA>       <NA>    2005-06-11 ...   472.7593 5             5              \n",
       "3 <NA>       <NA>    <NA>       ...   910.6600 4             5              \n",
       "4 <NA>       <NA>    <NA>       ...   209.8575 2             2              \n",
       "5 2005-02-03 <NA>    <NA>       ...    43.1573 4             3              \n",
       "6 <NA>       <NA>    <NA>       ...     0.0000 4             2              \n",
       "  monetary_score rfm_score w_recency_score w_frequency_score w_monetary_score\n",
       "1 5              555       1.0             1.0               3.0             \n",
       "2 4              554       1.0             1.0               2.4             \n",
       "3 4              454       0.8             1.0               2.4             \n",
       "4 3              223       0.4             0.4               1.8             \n",
       "5 2              432       0.8             0.6               1.2             \n",
       "6 1              421       0.8             0.4               0.6             \n",
       "  weighted_rfm Loyality           \n",
       "1 1.6666667    Loyalists          \n",
       "2 1.4666667    Potential Loyalists\n",
       "3 1.4000000    Potential Loyalists\n",
       "4 0.8666667    Regular Customers  \n",
       "5 0.8666667    Regular Customers  \n",
       "6 0.6000000    Hesitant Customers "
      ]
     },
     "metadata": {},
     "output_type": "display_data"
    }
   ],
   "source": [
    "head(base_table)"
   ]
  },
  {
   "cell_type": "code",
   "execution_count": 207,
   "metadata": {},
   "outputs": [
    {
     "data": {
      "text/html": [
       "<ol class=list-inline>\n",
       "\t<li>'UserID'</li>\n",
       "\t<li>'Country'</li>\n",
       "\t<li>'Language'</li>\n",
       "\t<li>'RegDate'</li>\n",
       "\t<li>'FirstPay'</li>\n",
       "\t<li>'FirstAct'</li>\n",
       "\t<li>'FirstSp'</li>\n",
       "\t<li>'FirstCa'</li>\n",
       "\t<li>'FirstGa'</li>\n",
       "\t<li>'FirstPo'</li>\n",
       "\t<li>'ApplicationID'</li>\n",
       "\t<li>'Gender'</li>\n",
       "\t<li>'LOR'</li>\n",
       "\t<li>'PTAI'</li>\n",
       "\t<li>'RTFP'</li>\n",
       "\t<li>'SpPlayed'</li>\n",
       "\t<li>'CaPlayed'</li>\n",
       "\t<li>'GaPlayed'</li>\n",
       "\t<li>'PoPlayed'</li>\n",
       "\t<li>'first_txn_dt'</li>\n",
       "\t<li>'last_txn_dt'</li>\n",
       "\t<li>'txn_cnt'</li>\n",
       "\t<li>'total_stakes'</li>\n",
       "\t<li>'total_wins'</li>\n",
       "\t<li>'total_bets'</li>\n",
       "\t<li>'avg_stakes'</li>\n",
       "\t<li>'avg_wins'</li>\n",
       "\t<li>'avg_bets'</li>\n",
       "\t<li>'procuct_1_cnt'</li>\n",
       "\t<li>'product_2_cnt'</li>\n",
       "\t<li>'product_4_cnt'</li>\n",
       "\t<li>'product_5_cnt'</li>\n",
       "\t<li>'product_6_cnt'</li>\n",
       "\t<li>'product_7_cnt'</li>\n",
       "\t<li>'product_8_cnt'</li>\n",
       "\t<li>'recency'</li>\n",
       "\t<li>'frequency'</li>\n",
       "\t<li>'monetary_value'</li>\n",
       "\t<li>'rfm_value'</li>\n",
       "\t<li>'profit'</li>\n",
       "\t<li>'total_buy'</li>\n",
       "\t<li>'avg_buy'</li>\n",
       "\t<li>'min_buy'</li>\n",
       "\t<li>'max_buy'</li>\n",
       "\t<li>'total_sell'</li>\n",
       "\t<li>'avg_sell'</li>\n",
       "\t<li>'min_sell'</li>\n",
       "\t<li>'max_sell'</li>\n",
       "\t<li>'date_most_recent'</li>\n",
       "\t<li>'recency_days'</li>\n",
       "\t<li>'transaction_count'</li>\n",
       "\t<li>'amount'</li>\n",
       "\t<li>'recency_score'</li>\n",
       "\t<li>'frequency_score'</li>\n",
       "\t<li>'monetary_score'</li>\n",
       "\t<li>'rfm_score'</li>\n",
       "\t<li>'w_recency_score'</li>\n",
       "\t<li>'w_frequency_score'</li>\n",
       "\t<li>'w_monetary_score'</li>\n",
       "\t<li>'weighted_rfm'</li>\n",
       "\t<li>'Loyality'</li>\n",
       "</ol>\n"
      ],
      "text/latex": [
       "\\begin{enumerate*}\n",
       "\\item 'UserID'\n",
       "\\item 'Country'\n",
       "\\item 'Language'\n",
       "\\item 'RegDate'\n",
       "\\item 'FirstPay'\n",
       "\\item 'FirstAct'\n",
       "\\item 'FirstSp'\n",
       "\\item 'FirstCa'\n",
       "\\item 'FirstGa'\n",
       "\\item 'FirstPo'\n",
       "\\item 'ApplicationID'\n",
       "\\item 'Gender'\n",
       "\\item 'LOR'\n",
       "\\item 'PTAI'\n",
       "\\item 'RTFP'\n",
       "\\item 'SpPlayed'\n",
       "\\item 'CaPlayed'\n",
       "\\item 'GaPlayed'\n",
       "\\item 'PoPlayed'\n",
       "\\item 'first\\_txn\\_dt'\n",
       "\\item 'last\\_txn\\_dt'\n",
       "\\item 'txn\\_cnt'\n",
       "\\item 'total\\_stakes'\n",
       "\\item 'total\\_wins'\n",
       "\\item 'total\\_bets'\n",
       "\\item 'avg\\_stakes'\n",
       "\\item 'avg\\_wins'\n",
       "\\item 'avg\\_bets'\n",
       "\\item 'procuct\\_1\\_cnt'\n",
       "\\item 'product\\_2\\_cnt'\n",
       "\\item 'product\\_4\\_cnt'\n",
       "\\item 'product\\_5\\_cnt'\n",
       "\\item 'product\\_6\\_cnt'\n",
       "\\item 'product\\_7\\_cnt'\n",
       "\\item 'product\\_8\\_cnt'\n",
       "\\item 'recency'\n",
       "\\item 'frequency'\n",
       "\\item 'monetary\\_value'\n",
       "\\item 'rfm\\_value'\n",
       "\\item 'profit'\n",
       "\\item 'total\\_buy'\n",
       "\\item 'avg\\_buy'\n",
       "\\item 'min\\_buy'\n",
       "\\item 'max\\_buy'\n",
       "\\item 'total\\_sell'\n",
       "\\item 'avg\\_sell'\n",
       "\\item 'min\\_sell'\n",
       "\\item 'max\\_sell'\n",
       "\\item 'date\\_most\\_recent'\n",
       "\\item 'recency\\_days'\n",
       "\\item 'transaction\\_count'\n",
       "\\item 'amount'\n",
       "\\item 'recency\\_score'\n",
       "\\item 'frequency\\_score'\n",
       "\\item 'monetary\\_score'\n",
       "\\item 'rfm\\_score'\n",
       "\\item 'w\\_recency\\_score'\n",
       "\\item 'w\\_frequency\\_score'\n",
       "\\item 'w\\_monetary\\_score'\n",
       "\\item 'weighted\\_rfm'\n",
       "\\item 'Loyality'\n",
       "\\end{enumerate*}\n"
      ],
      "text/markdown": [
       "1. 'UserID'\n",
       "2. 'Country'\n",
       "3. 'Language'\n",
       "4. 'RegDate'\n",
       "5. 'FirstPay'\n",
       "6. 'FirstAct'\n",
       "7. 'FirstSp'\n",
       "8. 'FirstCa'\n",
       "9. 'FirstGa'\n",
       "10. 'FirstPo'\n",
       "11. 'ApplicationID'\n",
       "12. 'Gender'\n",
       "13. 'LOR'\n",
       "14. 'PTAI'\n",
       "15. 'RTFP'\n",
       "16. 'SpPlayed'\n",
       "17. 'CaPlayed'\n",
       "18. 'GaPlayed'\n",
       "19. 'PoPlayed'\n",
       "20. 'first_txn_dt'\n",
       "21. 'last_txn_dt'\n",
       "22. 'txn_cnt'\n",
       "23. 'total_stakes'\n",
       "24. 'total_wins'\n",
       "25. 'total_bets'\n",
       "26. 'avg_stakes'\n",
       "27. 'avg_wins'\n",
       "28. 'avg_bets'\n",
       "29. 'procuct_1_cnt'\n",
       "30. 'product_2_cnt'\n",
       "31. 'product_4_cnt'\n",
       "32. 'product_5_cnt'\n",
       "33. 'product_6_cnt'\n",
       "34. 'product_7_cnt'\n",
       "35. 'product_8_cnt'\n",
       "36. 'recency'\n",
       "37. 'frequency'\n",
       "38. 'monetary_value'\n",
       "39. 'rfm_value'\n",
       "40. 'profit'\n",
       "41. 'total_buy'\n",
       "42. 'avg_buy'\n",
       "43. 'min_buy'\n",
       "44. 'max_buy'\n",
       "45. 'total_sell'\n",
       "46. 'avg_sell'\n",
       "47. 'min_sell'\n",
       "48. 'max_sell'\n",
       "49. 'date_most_recent'\n",
       "50. 'recency_days'\n",
       "51. 'transaction_count'\n",
       "52. 'amount'\n",
       "53. 'recency_score'\n",
       "54. 'frequency_score'\n",
       "55. 'monetary_score'\n",
       "56. 'rfm_score'\n",
       "57. 'w_recency_score'\n",
       "58. 'w_frequency_score'\n",
       "59. 'w_monetary_score'\n",
       "60. 'weighted_rfm'\n",
       "61. 'Loyality'\n",
       "\n",
       "\n"
      ],
      "text/plain": [
       " [1] \"UserID\"            \"Country\"           \"Language\"         \n",
       " [4] \"RegDate\"           \"FirstPay\"          \"FirstAct\"         \n",
       " [7] \"FirstSp\"           \"FirstCa\"           \"FirstGa\"          \n",
       "[10] \"FirstPo\"           \"ApplicationID\"     \"Gender\"           \n",
       "[13] \"LOR\"               \"PTAI\"              \"RTFP\"             \n",
       "[16] \"SpPlayed\"          \"CaPlayed\"          \"GaPlayed\"         \n",
       "[19] \"PoPlayed\"          \"first_txn_dt\"      \"last_txn_dt\"      \n",
       "[22] \"txn_cnt\"           \"total_stakes\"      \"total_wins\"       \n",
       "[25] \"total_bets\"        \"avg_stakes\"        \"avg_wins\"         \n",
       "[28] \"avg_bets\"          \"procuct_1_cnt\"     \"product_2_cnt\"    \n",
       "[31] \"product_4_cnt\"     \"product_5_cnt\"     \"product_6_cnt\"    \n",
       "[34] \"product_7_cnt\"     \"product_8_cnt\"     \"recency\"          \n",
       "[37] \"frequency\"         \"monetary_value\"    \"rfm_value\"        \n",
       "[40] \"profit\"            \"total_buy\"         \"avg_buy\"          \n",
       "[43] \"min_buy\"           \"max_buy\"           \"total_sell\"       \n",
       "[46] \"avg_sell\"          \"min_sell\"          \"max_sell\"         \n",
       "[49] \"date_most_recent\"  \"recency_days\"      \"transaction_count\"\n",
       "[52] \"amount\"            \"recency_score\"     \"frequency_score\"  \n",
       "[55] \"monetary_score\"    \"rfm_score\"         \"w_recency_score\"  \n",
       "[58] \"w_frequency_score\" \"w_monetary_score\"  \"weighted_rfm\"     \n",
       "[61] \"Loyality\"         "
      ]
     },
     "metadata": {},
     "output_type": "display_data"
    }
   ],
   "source": [
    "colnames(base_table)"
   ]
  },
  {
   "cell_type": "code",
   "execution_count": 132,
   "metadata": {},
   "outputs": [
    {
     "data": {
      "text/html": [
       "<dl class=dl-horizontal>\n",
       "\t<dt>UserID</dt>\n",
       "\t\t<dd>0</dd>\n",
       "\t<dt>Country</dt>\n",
       "\t\t<dd>0</dd>\n",
       "\t<dt>Language</dt>\n",
       "\t\t<dd>0</dd>\n",
       "\t<dt>RegDate</dt>\n",
       "\t\t<dd>0</dd>\n",
       "\t<dt>FirstPay</dt>\n",
       "\t\t<dd>0</dd>\n",
       "\t<dt>FirstAct</dt>\n",
       "\t\t<dd>2</dd>\n",
       "\t<dt>FirstSp</dt>\n",
       "\t\t<dd>1236</dd>\n",
       "\t<dt>FirstCa</dt>\n",
       "\t\t<dd>36761</dd>\n",
       "\t<dt>FirstGa</dt>\n",
       "\t\t<dd>39376</dd>\n",
       "\t<dt>FirstPo</dt>\n",
       "\t\t<dd>40507</dd>\n",
       "\t<dt>ApplicationID</dt>\n",
       "\t\t<dd>0</dd>\n",
       "\t<dt>Gender</dt>\n",
       "\t\t<dd>0</dd>\n",
       "\t<dt>LOR</dt>\n",
       "\t\t<dd>0</dd>\n",
       "\t<dt>PTAI</dt>\n",
       "\t\t<dd>2</dd>\n",
       "\t<dt>RTFP</dt>\n",
       "\t\t<dd>0</dd>\n",
       "\t<dt>SpPlayed</dt>\n",
       "\t\t<dd>0</dd>\n",
       "\t<dt>CaPlayed</dt>\n",
       "\t\t<dd>0</dd>\n",
       "\t<dt>GaPlayed</dt>\n",
       "\t\t<dd>0</dd>\n",
       "\t<dt>PoPlayed</dt>\n",
       "\t\t<dd>0</dd>\n",
       "\t<dt>first_txn_dt</dt>\n",
       "\t\t<dd>444</dd>\n",
       "\t<dt>last_txn_dt</dt>\n",
       "\t\t<dd>444</dd>\n",
       "\t<dt>txn_cnt</dt>\n",
       "\t\t<dd>444</dd>\n",
       "\t<dt>total_stakes</dt>\n",
       "\t\t<dd>444</dd>\n",
       "\t<dt>total_wins</dt>\n",
       "\t\t<dd>444</dd>\n",
       "\t<dt>total_bets</dt>\n",
       "\t\t<dd>444</dd>\n",
       "\t<dt>avg_stakes</dt>\n",
       "\t\t<dd>444</dd>\n",
       "\t<dt>avg_wins</dt>\n",
       "\t\t<dd>444</dd>\n",
       "\t<dt>avg_bets</dt>\n",
       "\t\t<dd>444</dd>\n",
       "\t<dt>procuct_1_cnt</dt>\n",
       "\t\t<dd>444</dd>\n",
       "\t<dt>product_2_cnt</dt>\n",
       "\t\t<dd>444</dd>\n",
       "\t<dt>product_4_cnt</dt>\n",
       "\t\t<dd>444</dd>\n",
       "\t<dt>product_5_cnt</dt>\n",
       "\t\t<dd>444</dd>\n",
       "\t<dt>product_6_cnt</dt>\n",
       "\t\t<dd>444</dd>\n",
       "\t<dt>product_7_cnt</dt>\n",
       "\t\t<dd>444</dd>\n",
       "\t<dt>product_8_cnt</dt>\n",
       "\t\t<dd>444</dd>\n",
       "\t<dt>recency</dt>\n",
       "\t\t<dd>444</dd>\n",
       "\t<dt>frequency</dt>\n",
       "\t\t<dd>444</dd>\n",
       "\t<dt>monetary_value</dt>\n",
       "\t\t<dd>444</dd>\n",
       "\t<dt>rfm_value</dt>\n",
       "\t\t<dd>444</dd>\n",
       "\t<dt>profit</dt>\n",
       "\t\t<dd>444</dd>\n",
       "\t<dt>total_buy</dt>\n",
       "\t\t<dd>40264</dd>\n",
       "\t<dt>avg_buy</dt>\n",
       "\t\t<dd>40264</dd>\n",
       "\t<dt>min_buy</dt>\n",
       "\t\t<dd>40264</dd>\n",
       "\t<dt>max_buy</dt>\n",
       "\t\t<dd>40264</dd>\n",
       "\t<dt>total_sell</dt>\n",
       "\t\t<dd>40296</dd>\n",
       "\t<dt>avg_sell</dt>\n",
       "\t\t<dd>40296</dd>\n",
       "\t<dt>min_sell</dt>\n",
       "\t\t<dd>40296</dd>\n",
       "\t<dt>max_sell</dt>\n",
       "\t\t<dd>40296</dd>\n",
       "\t<dt>date_most_recent</dt>\n",
       "\t\t<dd>37</dd>\n",
       "\t<dt>recency_days</dt>\n",
       "\t\t<dd>37</dd>\n",
       "\t<dt>transaction_count</dt>\n",
       "\t\t<dd>37</dd>\n",
       "\t<dt>amount</dt>\n",
       "\t\t<dd>37</dd>\n",
       "\t<dt>recency_score</dt>\n",
       "\t\t<dd>37</dd>\n",
       "\t<dt>frequency_score</dt>\n",
       "\t\t<dd>37</dd>\n",
       "\t<dt>monetary_score</dt>\n",
       "\t\t<dd>37</dd>\n",
       "\t<dt>rfm_score</dt>\n",
       "\t\t<dd>37</dd>\n",
       "\t<dt>w_recency_score</dt>\n",
       "\t\t<dd>37</dd>\n",
       "\t<dt>w_frequency_score</dt>\n",
       "\t\t<dd>37</dd>\n",
       "\t<dt>w_monetary_score</dt>\n",
       "\t\t<dd>37</dd>\n",
       "\t<dt>weighted_rfm</dt>\n",
       "\t\t<dd>37</dd>\n",
       "</dl>\n"
      ],
      "text/latex": [
       "\\begin{description*}\n",
       "\\item[UserID] 0\n",
       "\\item[Country] 0\n",
       "\\item[Language] 0\n",
       "\\item[RegDate] 0\n",
       "\\item[FirstPay] 0\n",
       "\\item[FirstAct] 2\n",
       "\\item[FirstSp] 1236\n",
       "\\item[FirstCa] 36761\n",
       "\\item[FirstGa] 39376\n",
       "\\item[FirstPo] 40507\n",
       "\\item[ApplicationID] 0\n",
       "\\item[Gender] 0\n",
       "\\item[LOR] 0\n",
       "\\item[PTAI] 2\n",
       "\\item[RTFP] 0\n",
       "\\item[SpPlayed] 0\n",
       "\\item[CaPlayed] 0\n",
       "\\item[GaPlayed] 0\n",
       "\\item[PoPlayed] 0\n",
       "\\item[first\\textbackslash{}\\_txn\\textbackslash{}\\_dt] 444\n",
       "\\item[last\\textbackslash{}\\_txn\\textbackslash{}\\_dt] 444\n",
       "\\item[txn\\textbackslash{}\\_cnt] 444\n",
       "\\item[total\\textbackslash{}\\_stakes] 444\n",
       "\\item[total\\textbackslash{}\\_wins] 444\n",
       "\\item[total\\textbackslash{}\\_bets] 444\n",
       "\\item[avg\\textbackslash{}\\_stakes] 444\n",
       "\\item[avg\\textbackslash{}\\_wins] 444\n",
       "\\item[avg\\textbackslash{}\\_bets] 444\n",
       "\\item[procuct\\textbackslash{}\\_1\\textbackslash{}\\_cnt] 444\n",
       "\\item[product\\textbackslash{}\\_2\\textbackslash{}\\_cnt] 444\n",
       "\\item[product\\textbackslash{}\\_4\\textbackslash{}\\_cnt] 444\n",
       "\\item[product\\textbackslash{}\\_5\\textbackslash{}\\_cnt] 444\n",
       "\\item[product\\textbackslash{}\\_6\\textbackslash{}\\_cnt] 444\n",
       "\\item[product\\textbackslash{}\\_7\\textbackslash{}\\_cnt] 444\n",
       "\\item[product\\textbackslash{}\\_8\\textbackslash{}\\_cnt] 444\n",
       "\\item[recency] 444\n",
       "\\item[frequency] 444\n",
       "\\item[monetary\\textbackslash{}\\_value] 444\n",
       "\\item[rfm\\textbackslash{}\\_value] 444\n",
       "\\item[profit] 444\n",
       "\\item[total\\textbackslash{}\\_buy] 40264\n",
       "\\item[avg\\textbackslash{}\\_buy] 40264\n",
       "\\item[min\\textbackslash{}\\_buy] 40264\n",
       "\\item[max\\textbackslash{}\\_buy] 40264\n",
       "\\item[total\\textbackslash{}\\_sell] 40296\n",
       "\\item[avg\\textbackslash{}\\_sell] 40296\n",
       "\\item[min\\textbackslash{}\\_sell] 40296\n",
       "\\item[max\\textbackslash{}\\_sell] 40296\n",
       "\\item[date\\textbackslash{}\\_most\\textbackslash{}\\_recent] 37\n",
       "\\item[recency\\textbackslash{}\\_days] 37\n",
       "\\item[transaction\\textbackslash{}\\_count] 37\n",
       "\\item[amount] 37\n",
       "\\item[recency\\textbackslash{}\\_score] 37\n",
       "\\item[frequency\\textbackslash{}\\_score] 37\n",
       "\\item[monetary\\textbackslash{}\\_score] 37\n",
       "\\item[rfm\\textbackslash{}\\_score] 37\n",
       "\\item[w\\textbackslash{}\\_recency\\textbackslash{}\\_score] 37\n",
       "\\item[w\\textbackslash{}\\_frequency\\textbackslash{}\\_score] 37\n",
       "\\item[w\\textbackslash{}\\_monetary\\textbackslash{}\\_score] 37\n",
       "\\item[weighted\\textbackslash{}\\_rfm] 37\n",
       "\\end{description*}\n"
      ],
      "text/markdown": [
       "UserID\n",
       ":   0Country\n",
       ":   0Language\n",
       ":   0RegDate\n",
       ":   0FirstPay\n",
       ":   0FirstAct\n",
       ":   2FirstSp\n",
       ":   1236FirstCa\n",
       ":   36761FirstGa\n",
       ":   39376FirstPo\n",
       ":   40507ApplicationID\n",
       ":   0Gender\n",
       ":   0LOR\n",
       ":   0PTAI\n",
       ":   2RTFP\n",
       ":   0SpPlayed\n",
       ":   0CaPlayed\n",
       ":   0GaPlayed\n",
       ":   0PoPlayed\n",
       ":   0first_txn_dt\n",
       ":   444last_txn_dt\n",
       ":   444txn_cnt\n",
       ":   444total_stakes\n",
       ":   444total_wins\n",
       ":   444total_bets\n",
       ":   444avg_stakes\n",
       ":   444avg_wins\n",
       ":   444avg_bets\n",
       ":   444procuct_1_cnt\n",
       ":   444product_2_cnt\n",
       ":   444product_4_cnt\n",
       ":   444product_5_cnt\n",
       ":   444product_6_cnt\n",
       ":   444product_7_cnt\n",
       ":   444product_8_cnt\n",
       ":   444recency\n",
       ":   444frequency\n",
       ":   444monetary_value\n",
       ":   444rfm_value\n",
       ":   444profit\n",
       ":   444total_buy\n",
       ":   40264avg_buy\n",
       ":   40264min_buy\n",
       ":   40264max_buy\n",
       ":   40264total_sell\n",
       ":   40296avg_sell\n",
       ":   40296min_sell\n",
       ":   40296max_sell\n",
       ":   40296date_most_recent\n",
       ":   37recency_days\n",
       ":   37transaction_count\n",
       ":   37amount\n",
       ":   37recency_score\n",
       ":   37frequency_score\n",
       ":   37monetary_score\n",
       ":   37rfm_score\n",
       ":   37w_recency_score\n",
       ":   37w_frequency_score\n",
       ":   37w_monetary_score\n",
       ":   37weighted_rfm\n",
       ":   37\n",
       "\n"
      ],
      "text/plain": [
       "           UserID           Country          Language           RegDate \n",
       "                0                 0                 0                 0 \n",
       "         FirstPay          FirstAct           FirstSp           FirstCa \n",
       "                0                 2              1236             36761 \n",
       "          FirstGa           FirstPo     ApplicationID            Gender \n",
       "            39376             40507                 0                 0 \n",
       "              LOR              PTAI              RTFP          SpPlayed \n",
       "                0                 2                 0                 0 \n",
       "         CaPlayed          GaPlayed          PoPlayed      first_txn_dt \n",
       "                0                 0                 0               444 \n",
       "      last_txn_dt           txn_cnt      total_stakes        total_wins \n",
       "              444               444               444               444 \n",
       "       total_bets        avg_stakes          avg_wins          avg_bets \n",
       "              444               444               444               444 \n",
       "    procuct_1_cnt     product_2_cnt     product_4_cnt     product_5_cnt \n",
       "              444               444               444               444 \n",
       "    product_6_cnt     product_7_cnt     product_8_cnt           recency \n",
       "              444               444               444               444 \n",
       "        frequency    monetary_value         rfm_value            profit \n",
       "              444               444               444               444 \n",
       "        total_buy           avg_buy           min_buy           max_buy \n",
       "            40264             40264             40264             40264 \n",
       "       total_sell          avg_sell          min_sell          max_sell \n",
       "            40296             40296             40296             40296 \n",
       " date_most_recent      recency_days transaction_count            amount \n",
       "               37                37                37                37 \n",
       "    recency_score   frequency_score    monetary_score         rfm_score \n",
       "               37                37                37                37 \n",
       "  w_recency_score w_frequency_score  w_monetary_score      weighted_rfm \n",
       "               37                37                37                37 "
      ]
     },
     "metadata": {},
     "output_type": "display_data"
    }
   ],
   "source": [
    "sapply(base_table,function(x) sum(is.na(x)))"
   ]
  },
  {
   "cell_type": "code",
   "execution_count": 133,
   "metadata": {},
   "outputs": [],
   "source": [
    "# creat function impute NA values with 0 in columns which are numeric\n",
    "numeric_col_na_to_0 <- function(x) { replace(x, is.na(x), 0) }"
   ]
  },
  {
   "cell_type": "code",
   "execution_count": 141,
   "metadata": {},
   "outputs": [],
   "source": [
    "base_table$txn_cnt <- numeric_col_na_to_0(base_table$txn_cnt)\n",
    "base_table$total_stakes <- numeric_col_na_to_0(base_table$total_stakes)\n",
    "base_table$total_wins <- numeric_col_na_to_0(base_table$total_wins)\n",
    "base_table$total_bets <- numeric_col_na_to_0(base_table$total_bets)\n",
    "base_table$avg_stakes <- numeric_col_na_to_0(base_table$avg_stakes)\n",
    "base_table$avg_wins <- numeric_col_na_to_0(base_table$avg_wins)\n",
    "base_table$avg_bets <- numeric_col_na_to_0(base_table$avg_bets)\n",
    "base_table$procuct_1_cnt <- numeric_col_na_to_0(base_table$procuct_1_cnt)\n",
    "base_table$product_2_cnt <- numeric_col_na_to_0(base_table$product_2_cnt)\n",
    "base_table$product_4_cnt <- numeric_col_na_to_0(base_table$product_4_cnt)\n",
    "base_table$product_5_cnt <- numeric_col_na_to_0(base_table$product_5_cnt)\n",
    "base_table$product_6_cnt <- numeric_col_na_to_0(base_table$product_6_cnt)\n",
    "base_table$product_7_cnt <- numeric_col_na_to_0(base_table$product_7_cnt)\n",
    "base_table$product_8_cnt <- numeric_col_na_to_0(base_table$product_8_cnt)\n",
    "base_table$recency <- numeric_col_na_to_0(base_table$recency)\n",
    "base_table$frequency <- numeric_col_na_to_0(base_table$frequency)\n",
    "base_table$monetary_value <- numeric_col_na_to_0(base_table$monetary_value)\n",
    "base_table$rfm_value <- numeric_col_na_to_0(base_table$rfm_value)\n",
    "base_table$recency_score <- numeric_col_na_to_0(base_table$recency_score)\n",
    "base_table$frequency_score <- numeric_col_na_to_0(base_table$frequency_score)\n",
    "base_table$monetary_score <- numeric_col_na_to_0(base_table$monetary_score)\n",
    "base_table$rfm_score <- numeric_col_na_to_0(base_table$rfm_score)\n",
    "base_table$profit <- numeric_col_na_to_0(base_table$profit)\n",
    "base_table$total_buy <- numeric_col_na_to_0(base_table$total_buy)\n",
    "base_table$avg_buy <- numeric_col_na_to_0(base_table$avg_buy)\n",
    "base_table$min_buy <- numeric_col_na_to_0(base_table$min_buy)\n",
    "base_table$max_buy <- numeric_col_na_to_0(base_table$max_buy)\n",
    "base_table$total_sell <- numeric_col_na_to_0(base_table$total_sell)\n",
    "base_table$avg_sell <- numeric_col_na_to_0(base_table$avg_sell)\n",
    "base_table$min_sell <- numeric_col_na_to_0(base_table$min_sell)\n",
    "base_table$max_sell <- numeric_col_na_to_0(base_table$max_sell)\n",
    "base_table$recency_days <- numeric_col_na_to_0(base_table$recency_days)\n",
    "base_table$transaction_count <- numeric_col_na_to_0(base_table$transaction_count)\n",
    "base_table$amount <- numeric_col_na_to_0(base_table$amount)\n",
    "base_table$w_recency_score <- numeric_col_na_to_0(base_table$w_recency_score)\n",
    "base_table$w_frequency_score <- numeric_col_na_to_0(base_table$w_frequency_score)\n",
    "base_table$w_monetary_score <- numeric_col_na_to_0(base_table$w_monetary_score)\n",
    "base_table$weighted_rfm <- numeric_col_na_to_0(base_table$weighted_rfm)\n",
    "\n",
    "\n",
    "\n",
    "\n",
    "\n",
    "\n"
   ]
  },
  {
   "cell_type": "code",
   "execution_count": 142,
   "metadata": {},
   "outputs": [
    {
     "data": {
      "text/html": [
       "<dl class=dl-horizontal>\n",
       "\t<dt>UserID</dt>\n",
       "\t\t<dd>0</dd>\n",
       "\t<dt>Country</dt>\n",
       "\t\t<dd>0</dd>\n",
       "\t<dt>Language</dt>\n",
       "\t\t<dd>0</dd>\n",
       "\t<dt>RegDate</dt>\n",
       "\t\t<dd>0</dd>\n",
       "\t<dt>FirstPay</dt>\n",
       "\t\t<dd>0</dd>\n",
       "\t<dt>FirstAct</dt>\n",
       "\t\t<dd>2</dd>\n",
       "\t<dt>FirstSp</dt>\n",
       "\t\t<dd>1236</dd>\n",
       "\t<dt>FirstCa</dt>\n",
       "\t\t<dd>36761</dd>\n",
       "\t<dt>FirstGa</dt>\n",
       "\t\t<dd>39376</dd>\n",
       "\t<dt>FirstPo</dt>\n",
       "\t\t<dd>40507</dd>\n",
       "\t<dt>ApplicationID</dt>\n",
       "\t\t<dd>0</dd>\n",
       "\t<dt>Gender</dt>\n",
       "\t\t<dd>0</dd>\n",
       "\t<dt>LOR</dt>\n",
       "\t\t<dd>0</dd>\n",
       "\t<dt>PTAI</dt>\n",
       "\t\t<dd>2</dd>\n",
       "\t<dt>RTFP</dt>\n",
       "\t\t<dd>0</dd>\n",
       "\t<dt>SpPlayed</dt>\n",
       "\t\t<dd>0</dd>\n",
       "\t<dt>CaPlayed</dt>\n",
       "\t\t<dd>0</dd>\n",
       "\t<dt>GaPlayed</dt>\n",
       "\t\t<dd>0</dd>\n",
       "\t<dt>PoPlayed</dt>\n",
       "\t\t<dd>0</dd>\n",
       "\t<dt>first_txn_dt</dt>\n",
       "\t\t<dd>444</dd>\n",
       "\t<dt>last_txn_dt</dt>\n",
       "\t\t<dd>444</dd>\n",
       "\t<dt>txn_cnt</dt>\n",
       "\t\t<dd>0</dd>\n",
       "\t<dt>total_stakes</dt>\n",
       "\t\t<dd>0</dd>\n",
       "\t<dt>total_wins</dt>\n",
       "\t\t<dd>0</dd>\n",
       "\t<dt>total_bets</dt>\n",
       "\t\t<dd>0</dd>\n",
       "\t<dt>avg_stakes</dt>\n",
       "\t\t<dd>0</dd>\n",
       "\t<dt>avg_wins</dt>\n",
       "\t\t<dd>0</dd>\n",
       "\t<dt>avg_bets</dt>\n",
       "\t\t<dd>0</dd>\n",
       "\t<dt>procuct_1_cnt</dt>\n",
       "\t\t<dd>0</dd>\n",
       "\t<dt>product_2_cnt</dt>\n",
       "\t\t<dd>0</dd>\n",
       "\t<dt>product_4_cnt</dt>\n",
       "\t\t<dd>0</dd>\n",
       "\t<dt>product_5_cnt</dt>\n",
       "\t\t<dd>0</dd>\n",
       "\t<dt>product_6_cnt</dt>\n",
       "\t\t<dd>0</dd>\n",
       "\t<dt>product_7_cnt</dt>\n",
       "\t\t<dd>0</dd>\n",
       "\t<dt>product_8_cnt</dt>\n",
       "\t\t<dd>0</dd>\n",
       "\t<dt>recency</dt>\n",
       "\t\t<dd>0</dd>\n",
       "\t<dt>frequency</dt>\n",
       "\t\t<dd>0</dd>\n",
       "\t<dt>monetary_value</dt>\n",
       "\t\t<dd>0</dd>\n",
       "\t<dt>rfm_value</dt>\n",
       "\t\t<dd>0</dd>\n",
       "\t<dt>profit</dt>\n",
       "\t\t<dd>0</dd>\n",
       "\t<dt>total_buy</dt>\n",
       "\t\t<dd>0</dd>\n",
       "\t<dt>avg_buy</dt>\n",
       "\t\t<dd>0</dd>\n",
       "\t<dt>min_buy</dt>\n",
       "\t\t<dd>0</dd>\n",
       "\t<dt>max_buy</dt>\n",
       "\t\t<dd>0</dd>\n",
       "\t<dt>total_sell</dt>\n",
       "\t\t<dd>0</dd>\n",
       "\t<dt>avg_sell</dt>\n",
       "\t\t<dd>0</dd>\n",
       "\t<dt>min_sell</dt>\n",
       "\t\t<dd>0</dd>\n",
       "\t<dt>max_sell</dt>\n",
       "\t\t<dd>0</dd>\n",
       "\t<dt>date_most_recent</dt>\n",
       "\t\t<dd>37</dd>\n",
       "\t<dt>recency_days</dt>\n",
       "\t\t<dd>0</dd>\n",
       "\t<dt>transaction_count</dt>\n",
       "\t\t<dd>0</dd>\n",
       "\t<dt>amount</dt>\n",
       "\t\t<dd>0</dd>\n",
       "\t<dt>recency_score</dt>\n",
       "\t\t<dd>0</dd>\n",
       "\t<dt>frequency_score</dt>\n",
       "\t\t<dd>0</dd>\n",
       "\t<dt>monetary_score</dt>\n",
       "\t\t<dd>0</dd>\n",
       "\t<dt>rfm_score</dt>\n",
       "\t\t<dd>0</dd>\n",
       "\t<dt>w_recency_score</dt>\n",
       "\t\t<dd>0</dd>\n",
       "\t<dt>w_frequency_score</dt>\n",
       "\t\t<dd>0</dd>\n",
       "\t<dt>w_monetary_score</dt>\n",
       "\t\t<dd>0</dd>\n",
       "\t<dt>weighted_rfm</dt>\n",
       "\t\t<dd>0</dd>\n",
       "</dl>\n"
      ],
      "text/latex": [
       "\\begin{description*}\n",
       "\\item[UserID] 0\n",
       "\\item[Country] 0\n",
       "\\item[Language] 0\n",
       "\\item[RegDate] 0\n",
       "\\item[FirstPay] 0\n",
       "\\item[FirstAct] 2\n",
       "\\item[FirstSp] 1236\n",
       "\\item[FirstCa] 36761\n",
       "\\item[FirstGa] 39376\n",
       "\\item[FirstPo] 40507\n",
       "\\item[ApplicationID] 0\n",
       "\\item[Gender] 0\n",
       "\\item[LOR] 0\n",
       "\\item[PTAI] 2\n",
       "\\item[RTFP] 0\n",
       "\\item[SpPlayed] 0\n",
       "\\item[CaPlayed] 0\n",
       "\\item[GaPlayed] 0\n",
       "\\item[PoPlayed] 0\n",
       "\\item[first\\textbackslash{}\\_txn\\textbackslash{}\\_dt] 444\n",
       "\\item[last\\textbackslash{}\\_txn\\textbackslash{}\\_dt] 444\n",
       "\\item[txn\\textbackslash{}\\_cnt] 0\n",
       "\\item[total\\textbackslash{}\\_stakes] 0\n",
       "\\item[total\\textbackslash{}\\_wins] 0\n",
       "\\item[total\\textbackslash{}\\_bets] 0\n",
       "\\item[avg\\textbackslash{}\\_stakes] 0\n",
       "\\item[avg\\textbackslash{}\\_wins] 0\n",
       "\\item[avg\\textbackslash{}\\_bets] 0\n",
       "\\item[procuct\\textbackslash{}\\_1\\textbackslash{}\\_cnt] 0\n",
       "\\item[product\\textbackslash{}\\_2\\textbackslash{}\\_cnt] 0\n",
       "\\item[product\\textbackslash{}\\_4\\textbackslash{}\\_cnt] 0\n",
       "\\item[product\\textbackslash{}\\_5\\textbackslash{}\\_cnt] 0\n",
       "\\item[product\\textbackslash{}\\_6\\textbackslash{}\\_cnt] 0\n",
       "\\item[product\\textbackslash{}\\_7\\textbackslash{}\\_cnt] 0\n",
       "\\item[product\\textbackslash{}\\_8\\textbackslash{}\\_cnt] 0\n",
       "\\item[recency] 0\n",
       "\\item[frequency] 0\n",
       "\\item[monetary\\textbackslash{}\\_value] 0\n",
       "\\item[rfm\\textbackslash{}\\_value] 0\n",
       "\\item[profit] 0\n",
       "\\item[total\\textbackslash{}\\_buy] 0\n",
       "\\item[avg\\textbackslash{}\\_buy] 0\n",
       "\\item[min\\textbackslash{}\\_buy] 0\n",
       "\\item[max\\textbackslash{}\\_buy] 0\n",
       "\\item[total\\textbackslash{}\\_sell] 0\n",
       "\\item[avg\\textbackslash{}\\_sell] 0\n",
       "\\item[min\\textbackslash{}\\_sell] 0\n",
       "\\item[max\\textbackslash{}\\_sell] 0\n",
       "\\item[date\\textbackslash{}\\_most\\textbackslash{}\\_recent] 37\n",
       "\\item[recency\\textbackslash{}\\_days] 0\n",
       "\\item[transaction\\textbackslash{}\\_count] 0\n",
       "\\item[amount] 0\n",
       "\\item[recency\\textbackslash{}\\_score] 0\n",
       "\\item[frequency\\textbackslash{}\\_score] 0\n",
       "\\item[monetary\\textbackslash{}\\_score] 0\n",
       "\\item[rfm\\textbackslash{}\\_score] 0\n",
       "\\item[w\\textbackslash{}\\_recency\\textbackslash{}\\_score] 0\n",
       "\\item[w\\textbackslash{}\\_frequency\\textbackslash{}\\_score] 0\n",
       "\\item[w\\textbackslash{}\\_monetary\\textbackslash{}\\_score] 0\n",
       "\\item[weighted\\textbackslash{}\\_rfm] 0\n",
       "\\end{description*}\n"
      ],
      "text/markdown": [
       "UserID\n",
       ":   0Country\n",
       ":   0Language\n",
       ":   0RegDate\n",
       ":   0FirstPay\n",
       ":   0FirstAct\n",
       ":   2FirstSp\n",
       ":   1236FirstCa\n",
       ":   36761FirstGa\n",
       ":   39376FirstPo\n",
       ":   40507ApplicationID\n",
       ":   0Gender\n",
       ":   0LOR\n",
       ":   0PTAI\n",
       ":   2RTFP\n",
       ":   0SpPlayed\n",
       ":   0CaPlayed\n",
       ":   0GaPlayed\n",
       ":   0PoPlayed\n",
       ":   0first_txn_dt\n",
       ":   444last_txn_dt\n",
       ":   444txn_cnt\n",
       ":   0total_stakes\n",
       ":   0total_wins\n",
       ":   0total_bets\n",
       ":   0avg_stakes\n",
       ":   0avg_wins\n",
       ":   0avg_bets\n",
       ":   0procuct_1_cnt\n",
       ":   0product_2_cnt\n",
       ":   0product_4_cnt\n",
       ":   0product_5_cnt\n",
       ":   0product_6_cnt\n",
       ":   0product_7_cnt\n",
       ":   0product_8_cnt\n",
       ":   0recency\n",
       ":   0frequency\n",
       ":   0monetary_value\n",
       ":   0rfm_value\n",
       ":   0profit\n",
       ":   0total_buy\n",
       ":   0avg_buy\n",
       ":   0min_buy\n",
       ":   0max_buy\n",
       ":   0total_sell\n",
       ":   0avg_sell\n",
       ":   0min_sell\n",
       ":   0max_sell\n",
       ":   0date_most_recent\n",
       ":   37recency_days\n",
       ":   0transaction_count\n",
       ":   0amount\n",
       ":   0recency_score\n",
       ":   0frequency_score\n",
       ":   0monetary_score\n",
       ":   0rfm_score\n",
       ":   0w_recency_score\n",
       ":   0w_frequency_score\n",
       ":   0w_monetary_score\n",
       ":   0weighted_rfm\n",
       ":   0\n",
       "\n"
      ],
      "text/plain": [
       "           UserID           Country          Language           RegDate \n",
       "                0                 0                 0                 0 \n",
       "         FirstPay          FirstAct           FirstSp           FirstCa \n",
       "                0                 2              1236             36761 \n",
       "          FirstGa           FirstPo     ApplicationID            Gender \n",
       "            39376             40507                 0                 0 \n",
       "              LOR              PTAI              RTFP          SpPlayed \n",
       "                0                 2                 0                 0 \n",
       "         CaPlayed          GaPlayed          PoPlayed      first_txn_dt \n",
       "                0                 0                 0               444 \n",
       "      last_txn_dt           txn_cnt      total_stakes        total_wins \n",
       "              444                 0                 0                 0 \n",
       "       total_bets        avg_stakes          avg_wins          avg_bets \n",
       "                0                 0                 0                 0 \n",
       "    procuct_1_cnt     product_2_cnt     product_4_cnt     product_5_cnt \n",
       "                0                 0                 0                 0 \n",
       "    product_6_cnt     product_7_cnt     product_8_cnt           recency \n",
       "                0                 0                 0                 0 \n",
       "        frequency    monetary_value         rfm_value            profit \n",
       "                0                 0                 0                 0 \n",
       "        total_buy           avg_buy           min_buy           max_buy \n",
       "                0                 0                 0                 0 \n",
       "       total_sell          avg_sell          min_sell          max_sell \n",
       "                0                 0                 0                 0 \n",
       " date_most_recent      recency_days transaction_count            amount \n",
       "               37                 0                 0                 0 \n",
       "    recency_score   frequency_score    monetary_score         rfm_score \n",
       "                0                 0                 0                 0 \n",
       "  w_recency_score w_frequency_score  w_monetary_score      weighted_rfm \n",
       "                0                 0                 0                 0 "
      ]
     },
     "metadata": {},
     "output_type": "display_data"
    }
   ],
   "source": [
    "sapply(base_table,function(x) sum(is.na(x)))"
   ]
  },
  {
   "cell_type": "code",
   "execution_count": 167,
   "metadata": {},
   "outputs": [],
   "source": [
    "#create plot that visualizes monetary value (gambler' winnings), frequency, and recency\n",
    "scatter_plot_monetary_value <- ggplot(base_table, aes(x=frequency,y=monetary_value,color=recency)) + \n",
    "ggtitle('Gambler total winnings against frequency') + \n",
    "xlab('Frequency (days)') + \n",
    "ylab('Total winnings (Euros)') + \n",
    "#create annotation for most extreme outlier, displaying their ID\n",
    "annotate(geom='text',x = 175, y= 1070000, label='Gambler ID with highest winnings',color='blue')"
   ]
  },
  {
   "cell_type": "code",
   "execution_count": 168,
   "metadata": {},
   "outputs": [],
   "source": [
    "#code adapted and inspired from this forum thread: https://stackoverflow.com/questions/1923273/counting-the-number-of-elements-with-the-values-of-x-in-a-vector\n",
    "scatter_plot_monetary_value_1 <- lapply(base_table[1], function(data) scatter_plot_monetary_value +\n",
    "geom_jitter(alpha=0.5) + \n",
    "theme_light(base_size=11) + \n",
    "theme(plot.title = element_text(hjust = 0.5)) + \n",
    "geom_text(aes(label= ifelse(base_table$monetary_value > quantile(base_table$monetary_value, 0.9999999),as.character(base_table$UserID),'')),hjust=0,vjust=0))"
   ]
  },
  {
   "cell_type": "code",
   "execution_count": 165,
   "metadata": {},
   "outputs": [
    {
     "data": {
      "text/plain": [
       "$UserID\n"
      ]
     },
     "metadata": {},
     "output_type": "display_data"
    },
    {
     "data": {
      "image/png": "[encoded data removed]",
      "text/plain": [
       "plot without title"
      ]
     },
     "metadata": {},
     "output_type": "display_data"
    }
   ],
   "source": [
    "scatter_plot_monetary_value_1"
   ]
  },
  {
   "cell_type": "code",
   "execution_count": 197,
   "metadata": {},
   "outputs": [],
   "source": [
    "prod_counts = c(sum(base_table$procuct_1_cnt),sum(base_table$product_2_cnt),sum(base_table$product_4_cnt),sum(base_table$product_5_cnt),sum(base_table$product_6_cnt),sum(base_table$product_7_cnt),sum(base_table$product_8_cnt))"
   ]
  },
  {
   "cell_type": "code",
   "execution_count": 199,
   "metadata": {},
   "outputs": [],
   "source": [
    "df_product_counts <- data.frame(\n",
    "    products = as.factor(c('Prod_1','Prod_2','Prod_4','Prod_5','Prod_6','Prod_7','Prod_8')),\n",
    "    counts = prod_counts\n",
    ")"
   ]
  },
  {
   "cell_type": "code",
   "execution_count": 260,
   "metadata": {},
   "outputs": [],
   "source": [
    "#create a barchart displaying most popular products excluding poker \n",
    "bar_plots_products <- ggplot(df_product_counts,aes(x=products,y=counts, fill=products)) +\n",
    "geom_col(position='dodge') +\n",
    "ggtitle('Product count (usage) against product type') + \n",
    "theme_light(base_size=11) +\n",
    "theme(plot.title = element_text(hjust = 0.5)) +\n",
    "ylab('Count (times played)') + \n",
    "scale_x_discrete('Product type',labels=c('Sports book fixed-odd','Sports book live-action','Casino BossMedia','Supertoto','Games VS','Games bwin','Casino Chartwell')) +\n",
    "theme(axis.text.x = element_text(angle = 90)) +\n",
    "scale_fill_discrete(labels=c('Sports book fixed-odd','Sports book live-action','Casino BossMedia','Supertoto','Games VS','Games bwin','Casino Chartwell'))\n"
   ]
  },
  {
   "cell_type": "code",
   "execution_count": 261,
   "metadata": {},
   "outputs": [
    {
     "data": {
      "image/png": "[encoded data removed]",
      "text/plain": [
       "plot without title"
      ]
     },
     "metadata": {},
     "output_type": "display_data"
    }
   ],
   "source": [
    "bar_plots_products"
   ]
  }
 ],
 "metadata": {
  "interpreter": {
   "hash": "f6dfda4f7504926322e752c060a724cc46e23c81b9d8dc9b8f916990a33f0c50"
  },
  "kernelspec": {
   "display_name": "R",
   "language": "R",
   "name": "python396jvsc74a57bd0d7ff20910c5304552d0b4c1164dfc0a171c277810953fa1692cab57ae17a1bfb"
  },
  "language_info": {
   "codemirror_mode": "r",
   "file_extension": ".r",
   "mimetype": "text/x-r-source",
   "name": "R",
   "pygments_lexer": "r",
   "version": "3.6.1"
  },
  "orig_nbformat": 4
 },
 "nbformat": 4,
 "nbformat_minor": 2
}
